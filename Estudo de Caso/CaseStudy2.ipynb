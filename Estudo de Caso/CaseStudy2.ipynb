{
 "cells": [
  {
   "cell_type": "markdown",
   "id": "647eecb7-529f-4572-b504-0e89b69b2ec3",
   "metadata": {},
   "source": [
    "**Estudo de Caso 2 \"Materials Project and Perovskite Datasets\" do artigo PiNN: A Python Library for Building Atomic Neural Networks of Molecules and Materials**\n",
    "\n",
    "Etapa 0: Instalações necessárias utilizando o Jupyter Notebook\n",
    "\n",
    "* Instalar: Miniconda3 Python 3.10 para Windows 64-bit -> É necessário para usar a biblioteca PINN do artigo\n",
    "* No “Anaconda Prompt” digitar:\n",
    "    * conda --version\n",
    "    * conda create -n pinn python=3.9\n",
    "    * conda activate pinn\n",
    "    * conda install numpy scipy matplotlib ase\n",
    "* Instalar o Git em https://git-scm.com/download/win\n",
    "* No “Anaconda Prompt” digitar:\n",
    "    * git --version\n",
    "    * https://git-scm.com/download/win\n",
    "    * python -c \"import pinn; print(pinn.__version__)\""
   ]
  },
  {
   "cell_type": "code",
   "execution_count": 1,
   "id": "ff553d05-d4fc-49ff-928f-9db0a13f0f8e",
   "metadata": {},
   "outputs": [
    {
     "name": "stdout",
     "output_type": "stream",
     "text": [
      "Defaulting to user installation because normal site-packages is not writeable\n",
      "Collecting pydantic<2.0\n",
      "  Using cached pydantic-1.10.22-cp312-cp312-win_amd64.whl.metadata (155 kB)\n",
      "Requirement already satisfied: typing-extensions>=4.2.0 in c:\\users\\cassio souza\\appdata\\roaming\\python\\python312\\site-packages (from pydantic<2.0) (4.14.1)\n",
      "Using cached pydantic-1.10.22-cp312-cp312-win_amd64.whl (2.2 MB)\n",
      "Installing collected packages: pydantic\n",
      "  Attempting uninstall: pydantic\n",
      "    Found existing installation: pydantic 2.11.7\n",
      "    Uninstalling pydantic-2.11.7:\n",
      "      Successfully uninstalled pydantic-2.11.7\n",
      "Successfully installed pydantic-1.10.22\n"
     ]
    },
    {
     "name": "stderr",
     "output_type": "stream",
     "text": [
      "ERROR: pip's dependency resolver does not currently take into account all the packages that are installed. This behaviour is the source of the following dependency conflicts.\n",
      "emmet-core 0.84.9 requires pydantic>=2.0, but you have pydantic 1.10.22 which is incompatible.\n",
      "maggma 0.72.0 requires pydantic>=2.0, but you have pydantic 1.10.22 which is incompatible.\n",
      "pydantic-settings 2.6.1 requires pydantic>=2.7.0, but you have pydantic 1.10.22 which is incompatible.\n"
     ]
    },
    {
     "name": "stdout",
     "output_type": "stream",
     "text": [
      "Defaulting to user installation because normal site-packages is not writeable\n",
      "Collecting emmet-core==0.57.0\n",
      "  Using cached emmet_core-0.57.0-py3-none-any.whl.metadata (1.9 kB)\n",
      "Requirement already satisfied: pymatgen>=2021.5 in c:\\users\\cassio souza\\appdata\\roaming\\python\\python312\\site-packages (from emmet-core==0.57.0) (2025.6.14)\n",
      "Requirement already satisfied: monty>=2021.3 in c:\\users\\cassio souza\\appdata\\roaming\\python\\python312\\site-packages (from emmet-core==0.57.0) (2025.3.3)\n",
      "Requirement already satisfied: pydantic>=1.10.2 in c:\\users\\cassio souza\\appdata\\roaming\\python\\python312\\site-packages (from emmet-core==0.57.0) (1.10.22)\n",
      "Requirement already satisfied: pybtex~=0.24 in c:\\users\\cassio souza\\appdata\\roaming\\python\\python312\\site-packages (from emmet-core==0.57.0) (0.25.1)\n",
      "Requirement already satisfied: typing-extensions<5.0,>=3.7 in c:\\users\\cassio souza\\appdata\\roaming\\python\\python312\\site-packages (from emmet-core==0.57.0) (4.14.1)\n",
      "Requirement already satisfied: spglib>=2.0.1 in c:\\users\\cassio souza\\appdata\\roaming\\python\\python312\\site-packages (from emmet-core==0.57.0) (2.6.0)\n",
      "Requirement already satisfied: ruamel.yaml in c:\\programdata\\anaconda3\\lib\\site-packages (from monty>=2021.3->emmet-core==0.57.0) (0.18.6)\n",
      "Requirement already satisfied: numpy in c:\\programdata\\anaconda3\\lib\\site-packages (from monty>=2021.3->emmet-core==0.57.0) (1.26.4)\n",
      "Requirement already satisfied: PyYAML>=3.01 in c:\\programdata\\anaconda3\\lib\\site-packages (from pybtex~=0.24->emmet-core==0.57.0) (6.0.1)\n",
      "Requirement already satisfied: latexcodec>=1.0.4 in c:\\users\\cassio souza\\appdata\\roaming\\python\\python312\\site-packages (from pybtex~=0.24->emmet-core==0.57.0) (3.0.1)\n",
      "Requirement already satisfied: bibtexparser>=1.4.0 in c:\\users\\cassio souza\\appdata\\roaming\\python\\python312\\site-packages (from pymatgen>=2021.5->emmet-core==0.57.0) (1.4.3)\n",
      "Requirement already satisfied: joblib>=1 in c:\\programdata\\anaconda3\\lib\\site-packages (from pymatgen>=2021.5->emmet-core==0.57.0) (1.4.2)\n",
      "Requirement already satisfied: matplotlib>=3.8 in c:\\programdata\\anaconda3\\lib\\site-packages (from pymatgen>=2021.5->emmet-core==0.57.0) (3.9.2)\n",
      "Requirement already satisfied: networkx>=2.7 in c:\\programdata\\anaconda3\\lib\\site-packages (from pymatgen>=2021.5->emmet-core==0.57.0) (3.3)\n",
      "Requirement already satisfied: orjson<4,>=3.10 in c:\\users\\cassio souza\\appdata\\roaming\\python\\python312\\site-packages (from pymatgen>=2021.5->emmet-core==0.57.0) (3.11.2)\n",
      "Requirement already satisfied: palettable>=3.3.3 in c:\\users\\cassio souza\\appdata\\roaming\\python\\python312\\site-packages (from pymatgen>=2021.5->emmet-core==0.57.0) (3.3.3)\n",
      "Requirement already satisfied: pandas>=2 in c:\\programdata\\anaconda3\\lib\\site-packages (from pymatgen>=2021.5->emmet-core==0.57.0) (2.2.2)\n",
      "Requirement already satisfied: plotly>=5.0.0 in c:\\programdata\\anaconda3\\lib\\site-packages (from pymatgen>=2021.5->emmet-core==0.57.0) (5.24.1)\n",
      "Requirement already satisfied: requests>=2.32 in c:\\programdata\\anaconda3\\lib\\site-packages (from pymatgen>=2021.5->emmet-core==0.57.0) (2.32.3)\n",
      "Requirement already satisfied: scipy>=1.13.0 in c:\\users\\cassio souza\\appdata\\roaming\\python\\python312\\site-packages (from pymatgen>=2021.5->emmet-core==0.57.0) (1.16.1)\n",
      "Requirement already satisfied: sympy>=1.3 in c:\\users\\cassio souza\\appdata\\roaming\\python\\python312\\site-packages (from pymatgen>=2021.5->emmet-core==0.57.0) (1.14.0)\n",
      "Requirement already satisfied: tabulate>=0.9 in c:\\programdata\\anaconda3\\lib\\site-packages (from pymatgen>=2021.5->emmet-core==0.57.0) (0.9.0)\n",
      "Requirement already satisfied: tqdm>=4.60 in c:\\programdata\\anaconda3\\lib\\site-packages (from pymatgen>=2021.5->emmet-core==0.57.0) (4.66.5)\n",
      "Requirement already satisfied: uncertainties>=3.1.4 in c:\\users\\cassio souza\\appdata\\roaming\\python\\python312\\site-packages (from pymatgen>=2021.5->emmet-core==0.57.0) (3.2.3)\n",
      "Requirement already satisfied: pyparsing>=2.0.3 in c:\\programdata\\anaconda3\\lib\\site-packages (from bibtexparser>=1.4.0->pymatgen>=2021.5->emmet-core==0.57.0) (3.1.2)\n",
      "Requirement already satisfied: contourpy>=1.0.1 in c:\\programdata\\anaconda3\\lib\\site-packages (from matplotlib>=3.8->pymatgen>=2021.5->emmet-core==0.57.0) (1.2.0)\n",
      "Requirement already satisfied: cycler>=0.10 in c:\\programdata\\anaconda3\\lib\\site-packages (from matplotlib>=3.8->pymatgen>=2021.5->emmet-core==0.57.0) (0.11.0)\n",
      "Requirement already satisfied: fonttools>=4.22.0 in c:\\programdata\\anaconda3\\lib\\site-packages (from matplotlib>=3.8->pymatgen>=2021.5->emmet-core==0.57.0) (4.51.0)\n",
      "Requirement already satisfied: kiwisolver>=1.3.1 in c:\\programdata\\anaconda3\\lib\\site-packages (from matplotlib>=3.8->pymatgen>=2021.5->emmet-core==0.57.0) (1.4.4)\n",
      "Requirement already satisfied: packaging>=20.0 in c:\\programdata\\anaconda3\\lib\\site-packages (from matplotlib>=3.8->pymatgen>=2021.5->emmet-core==0.57.0) (24.1)\n",
      "Requirement already satisfied: pillow>=8 in c:\\programdata\\anaconda3\\lib\\site-packages (from matplotlib>=3.8->pymatgen>=2021.5->emmet-core==0.57.0) (10.4.0)\n",
      "Requirement already satisfied: python-dateutil>=2.7 in c:\\programdata\\anaconda3\\lib\\site-packages (from matplotlib>=3.8->pymatgen>=2021.5->emmet-core==0.57.0) (2.9.0.post0)\n",
      "Requirement already satisfied: pytz>=2020.1 in c:\\programdata\\anaconda3\\lib\\site-packages (from pandas>=2->pymatgen>=2021.5->emmet-core==0.57.0) (2024.1)\n",
      "Requirement already satisfied: tzdata>=2022.7 in c:\\programdata\\anaconda3\\lib\\site-packages (from pandas>=2->pymatgen>=2021.5->emmet-core==0.57.0) (2023.3)\n",
      "Requirement already satisfied: tenacity>=6.2.0 in c:\\programdata\\anaconda3\\lib\\site-packages (from plotly>=5.0.0->pymatgen>=2021.5->emmet-core==0.57.0) (8.2.3)\n",
      "Requirement already satisfied: charset-normalizer<4,>=2 in c:\\programdata\\anaconda3\\lib\\site-packages (from requests>=2.32->pymatgen>=2021.5->emmet-core==0.57.0) (3.3.2)\n",
      "Requirement already satisfied: idna<4,>=2.5 in c:\\programdata\\anaconda3\\lib\\site-packages (from requests>=2.32->pymatgen>=2021.5->emmet-core==0.57.0) (3.7)\n",
      "Requirement already satisfied: urllib3<3,>=1.21.1 in c:\\programdata\\anaconda3\\lib\\site-packages (from requests>=2.32->pymatgen>=2021.5->emmet-core==0.57.0) (2.2.3)\n",
      "Requirement already satisfied: certifi>=2017.4.17 in c:\\programdata\\anaconda3\\lib\\site-packages (from requests>=2.32->pymatgen>=2021.5->emmet-core==0.57.0) (2025.4.26)\n",
      "Requirement already satisfied: ruamel.yaml.clib>=0.2.7 in c:\\programdata\\anaconda3\\lib\\site-packages (from ruamel.yaml->monty>=2021.3->emmet-core==0.57.0) (0.2.8)\n",
      "Requirement already satisfied: mpmath<1.4,>=1.1.0 in c:\\programdata\\anaconda3\\lib\\site-packages (from sympy>=1.3->pymatgen>=2021.5->emmet-core==0.57.0) (1.3.0)\n",
      "Requirement already satisfied: colorama in c:\\programdata\\anaconda3\\lib\\site-packages (from tqdm>=4.60->pymatgen>=2021.5->emmet-core==0.57.0) (0.4.6)\n",
      "Requirement already satisfied: six>=1.5 in c:\\programdata\\anaconda3\\lib\\site-packages (from python-dateutil>=2.7->matplotlib>=3.8->pymatgen>=2021.5->emmet-core==0.57.0) (1.16.0)\n",
      "Using cached emmet_core-0.57.0-py3-none-any.whl (154 kB)\n",
      "Installing collected packages: emmet-core\n",
      "  Attempting uninstall: emmet-core\n",
      "    Found existing installation: emmet-core 0.84.9\n",
      "    Uninstalling emmet-core-0.84.9:\n",
      "      Successfully uninstalled emmet-core-0.84.9\n",
      "Successfully installed emmet-core-0.57.0\n"
     ]
    },
    {
     "name": "stderr",
     "output_type": "stream",
     "text": [
      "ERROR: pip's dependency resolver does not currently take into account all the packages that are installed. This behaviour is the source of the following dependency conflicts.\n",
      "mp-api 0.45.5 requires emmet-core>=0.84.3rc6, but you have emmet-core 0.57.0 which is incompatible.\n"
     ]
    },
    {
     "name": "stdout",
     "output_type": "stream",
     "text": [
      "Defaulting to user installation because normal site-packages is not writeable\n",
      "Requirement already satisfied: mp-api==0.45.5 in c:\\users\\cassio souza\\appdata\\roaming\\python\\python312\\site-packages (0.45.5)\n",
      "Requirement already satisfied: setuptools in c:\\programdata\\anaconda3\\lib\\site-packages (from mp-api==0.45.5) (75.1.0)\n",
      "Requirement already satisfied: msgpack in c:\\programdata\\anaconda3\\lib\\site-packages (from mp-api==0.45.5) (1.0.3)\n",
      "Requirement already satisfied: maggma>=0.57.1 in c:\\users\\cassio souza\\appdata\\roaming\\python\\python312\\site-packages (from mp-api==0.45.5) (0.72.0)\n",
      "Requirement already satisfied: pymatgen!=2024.2.20,>=2022.3.7 in c:\\users\\cassio souza\\appdata\\roaming\\python\\python312\\site-packages (from mp-api==0.45.5) (2025.6.14)\n",
      "Requirement already satisfied: typing-extensions>=3.7.4.1 in c:\\users\\cassio souza\\appdata\\roaming\\python\\python312\\site-packages (from mp-api==0.45.5) (4.14.1)\n",
      "Requirement already satisfied: requests>=2.23.0 in c:\\programdata\\anaconda3\\lib\\site-packages (from mp-api==0.45.5) (2.32.3)\n",
      "Requirement already satisfied: monty>=2024.12.10 in c:\\users\\cassio souza\\appdata\\roaming\\python\\python312\\site-packages (from mp-api==0.45.5) (2025.3.3)\n",
      "Collecting emmet-core>=0.84.3rc6 (from mp-api==0.45.5)\n",
      "  Using cached emmet_core-0.84.9-py3-none-any.whl.metadata (2.8 kB)\n",
      "Requirement already satisfied: smart_open in c:\\programdata\\anaconda3\\lib\\site-packages (from mp-api==0.45.5) (5.2.1)\n",
      "Collecting pydantic>=2.0 (from emmet-core>=0.84.3rc6->mp-api==0.45.5)\n",
      "  Using cached pydantic-2.11.7-py3-none-any.whl.metadata (67 kB)\n",
      "Requirement already satisfied: pydantic-settings>=2.0 in c:\\programdata\\anaconda3\\lib\\site-packages (from emmet-core>=0.84.3rc6->mp-api==0.45.5) (2.6.1)\n",
      "Requirement already satisfied: pybtex~=0.24 in c:\\users\\cassio souza\\appdata\\roaming\\python\\python312\\site-packages (from emmet-core>=0.84.3rc6->mp-api==0.45.5) (0.25.1)\n",
      "Requirement already satisfied: ruamel.yaml>=0.17 in c:\\programdata\\anaconda3\\lib\\site-packages (from maggma>=0.57.1->mp-api==0.45.5) (0.18.6)\n",
      "Requirement already satisfied: pymongo<4.11,>=4.2.0 in c:\\users\\cassio souza\\appdata\\roaming\\python\\python312\\site-packages (from maggma>=0.57.1->mp-api==0.45.5) (4.10.1)\n",
      "Requirement already satisfied: mongomock>=3.10.0 in c:\\users\\cassio souza\\appdata\\roaming\\python\\python312\\site-packages (from maggma>=0.57.1->mp-api==0.45.5) (4.3.0)\n",
      "Requirement already satisfied: pydash>=4.1.0 in c:\\users\\cassio souza\\appdata\\roaming\\python\\python312\\site-packages (from maggma>=0.57.1->mp-api==0.45.5) (8.0.5)\n",
      "Requirement already satisfied: jsonschema>=3.1.1 in c:\\programdata\\anaconda3\\lib\\site-packages (from maggma>=0.57.1->mp-api==0.45.5) (4.23.0)\n",
      "Requirement already satisfied: tqdm>=4.19.6 in c:\\programdata\\anaconda3\\lib\\site-packages (from maggma>=0.57.1->mp-api==0.45.5) (4.66.5)\n",
      "Requirement already satisfied: pandas>=2.2 in c:\\programdata\\anaconda3\\lib\\site-packages (from maggma>=0.57.1->mp-api==0.45.5) (2.2.2)\n",
      "Requirement already satisfied: jsonlines>=4.0.0 in c:\\users\\cassio souza\\appdata\\roaming\\python\\python312\\site-packages (from maggma>=0.57.1->mp-api==0.45.5) (4.0.0)\n",
      "Requirement already satisfied: aioitertools>=0.5.1 in c:\\programdata\\anaconda3\\lib\\site-packages (from maggma>=0.57.1->mp-api==0.45.5) (0.7.1)\n",
      "Requirement already satisfied: numpy>=1.26 in c:\\programdata\\anaconda3\\lib\\site-packages (from maggma>=0.57.1->mp-api==0.45.5) (1.26.4)\n",
      "Requirement already satisfied: pyzmq>=25.1.1 in c:\\programdata\\anaconda3\\lib\\site-packages (from maggma>=0.57.1->mp-api==0.45.5) (25.1.2)\n",
      "Requirement already satisfied: dnspython>=1.16.0 in c:\\users\\cassio souza\\appdata\\roaming\\python\\python312\\site-packages (from maggma>=0.57.1->mp-api==0.45.5) (2.7.0)\n",
      "Requirement already satisfied: sshtunnel>=0.1.5 in c:\\users\\cassio souza\\appdata\\roaming\\python\\python312\\site-packages (from maggma>=0.57.1->mp-api==0.45.5) (0.4.0)\n",
      "Requirement already satisfied: orjson>=3.9.0 in c:\\users\\cassio souza\\appdata\\roaming\\python\\python312\\site-packages (from maggma>=0.57.1->mp-api==0.45.5) (3.11.2)\n",
      "Requirement already satisfied: boto3>=1.20.41 in c:\\users\\cassio souza\\appdata\\roaming\\python\\python312\\site-packages (from maggma>=0.57.1->mp-api==0.45.5) (1.40.11)\n",
      "Requirement already satisfied: python-dateutil>=2.8.2 in c:\\programdata\\anaconda3\\lib\\site-packages (from maggma>=0.57.1->mp-api==0.45.5) (2.9.0.post0)\n",
      "Requirement already satisfied: bibtexparser>=1.4.0 in c:\\users\\cassio souza\\appdata\\roaming\\python\\python312\\site-packages (from pymatgen!=2024.2.20,>=2022.3.7->mp-api==0.45.5) (1.4.3)\n",
      "Requirement already satisfied: joblib>=1 in c:\\programdata\\anaconda3\\lib\\site-packages (from pymatgen!=2024.2.20,>=2022.3.7->mp-api==0.45.5) (1.4.2)\n",
      "Requirement already satisfied: matplotlib>=3.8 in c:\\programdata\\anaconda3\\lib\\site-packages (from pymatgen!=2024.2.20,>=2022.3.7->mp-api==0.45.5) (3.9.2)\n",
      "Requirement already satisfied: networkx>=2.7 in c:\\programdata\\anaconda3\\lib\\site-packages (from pymatgen!=2024.2.20,>=2022.3.7->mp-api==0.45.5) (3.3)\n",
      "Requirement already satisfied: palettable>=3.3.3 in c:\\users\\cassio souza\\appdata\\roaming\\python\\python312\\site-packages (from pymatgen!=2024.2.20,>=2022.3.7->mp-api==0.45.5) (3.3.3)\n",
      "Requirement already satisfied: plotly>=5.0.0 in c:\\programdata\\anaconda3\\lib\\site-packages (from pymatgen!=2024.2.20,>=2022.3.7->mp-api==0.45.5) (5.24.1)\n",
      "Requirement already satisfied: scipy>=1.13.0 in c:\\users\\cassio souza\\appdata\\roaming\\python\\python312\\site-packages (from pymatgen!=2024.2.20,>=2022.3.7->mp-api==0.45.5) (1.16.1)\n",
      "Requirement already satisfied: spglib>=2.5 in c:\\users\\cassio souza\\appdata\\roaming\\python\\python312\\site-packages (from pymatgen!=2024.2.20,>=2022.3.7->mp-api==0.45.5) (2.6.0)\n",
      "Requirement already satisfied: sympy>=1.3 in c:\\users\\cassio souza\\appdata\\roaming\\python\\python312\\site-packages (from pymatgen!=2024.2.20,>=2022.3.7->mp-api==0.45.5) (1.14.0)\n",
      "Requirement already satisfied: tabulate>=0.9 in c:\\programdata\\anaconda3\\lib\\site-packages (from pymatgen!=2024.2.20,>=2022.3.7->mp-api==0.45.5) (0.9.0)\n",
      "Requirement already satisfied: uncertainties>=3.1.4 in c:\\users\\cassio souza\\appdata\\roaming\\python\\python312\\site-packages (from pymatgen!=2024.2.20,>=2022.3.7->mp-api==0.45.5) (3.2.3)\n",
      "Requirement already satisfied: charset-normalizer<4,>=2 in c:\\programdata\\anaconda3\\lib\\site-packages (from requests>=2.23.0->mp-api==0.45.5) (3.3.2)\n",
      "Requirement already satisfied: idna<4,>=2.5 in c:\\programdata\\anaconda3\\lib\\site-packages (from requests>=2.23.0->mp-api==0.45.5) (3.7)\n",
      "Requirement already satisfied: urllib3<3,>=1.21.1 in c:\\programdata\\anaconda3\\lib\\site-packages (from requests>=2.23.0->mp-api==0.45.5) (2.2.3)\n",
      "Requirement already satisfied: certifi>=2017.4.17 in c:\\programdata\\anaconda3\\lib\\site-packages (from requests>=2.23.0->mp-api==0.45.5) (2025.4.26)\n",
      "Requirement already satisfied: pyparsing>=2.0.3 in c:\\programdata\\anaconda3\\lib\\site-packages (from bibtexparser>=1.4.0->pymatgen!=2024.2.20,>=2022.3.7->mp-api==0.45.5) (3.1.2)\n",
      "Collecting botocore<1.41.0,>=1.40.11 (from boto3>=1.20.41->maggma>=0.57.1->mp-api==0.45.5)\n",
      "  Using cached botocore-1.40.11-py3-none-any.whl.metadata (5.7 kB)\n",
      "Requirement already satisfied: jmespath<2.0.0,>=0.7.1 in c:\\programdata\\anaconda3\\lib\\site-packages (from boto3>=1.20.41->maggma>=0.57.1->mp-api==0.45.5) (1.0.1)\n",
      "Requirement already satisfied: s3transfer<0.14.0,>=0.13.0 in c:\\users\\cassio souza\\appdata\\roaming\\python\\python312\\site-packages (from boto3>=1.20.41->maggma>=0.57.1->mp-api==0.45.5) (0.13.1)\n",
      "Requirement already satisfied: attrs>=19.2.0 in c:\\programdata\\anaconda3\\lib\\site-packages (from jsonlines>=4.0.0->maggma>=0.57.1->mp-api==0.45.5) (23.1.0)\n",
      "Requirement already satisfied: jsonschema-specifications>=2023.03.6 in c:\\programdata\\anaconda3\\lib\\site-packages (from jsonschema>=3.1.1->maggma>=0.57.1->mp-api==0.45.5) (2023.7.1)\n",
      "Requirement already satisfied: referencing>=0.28.4 in c:\\programdata\\anaconda3\\lib\\site-packages (from jsonschema>=3.1.1->maggma>=0.57.1->mp-api==0.45.5) (0.30.2)\n",
      "Requirement already satisfied: rpds-py>=0.7.1 in c:\\programdata\\anaconda3\\lib\\site-packages (from jsonschema>=3.1.1->maggma>=0.57.1->mp-api==0.45.5) (0.10.6)\n",
      "Requirement already satisfied: contourpy>=1.0.1 in c:\\programdata\\anaconda3\\lib\\site-packages (from matplotlib>=3.8->pymatgen!=2024.2.20,>=2022.3.7->mp-api==0.45.5) (1.2.0)\n",
      "Requirement already satisfied: cycler>=0.10 in c:\\programdata\\anaconda3\\lib\\site-packages (from matplotlib>=3.8->pymatgen!=2024.2.20,>=2022.3.7->mp-api==0.45.5) (0.11.0)\n",
      "Requirement already satisfied: fonttools>=4.22.0 in c:\\programdata\\anaconda3\\lib\\site-packages (from matplotlib>=3.8->pymatgen!=2024.2.20,>=2022.3.7->mp-api==0.45.5) (4.51.0)\n",
      "Requirement already satisfied: kiwisolver>=1.3.1 in c:\\programdata\\anaconda3\\lib\\site-packages (from matplotlib>=3.8->pymatgen!=2024.2.20,>=2022.3.7->mp-api==0.45.5) (1.4.4)\n",
      "Requirement already satisfied: packaging>=20.0 in c:\\programdata\\anaconda3\\lib\\site-packages (from matplotlib>=3.8->pymatgen!=2024.2.20,>=2022.3.7->mp-api==0.45.5) (24.1)\n",
      "Requirement already satisfied: pillow>=8 in c:\\programdata\\anaconda3\\lib\\site-packages (from matplotlib>=3.8->pymatgen!=2024.2.20,>=2022.3.7->mp-api==0.45.5) (10.4.0)\n",
      "Requirement already satisfied: pytz in c:\\programdata\\anaconda3\\lib\\site-packages (from mongomock>=3.10.0->maggma>=0.57.1->mp-api==0.45.5) (2024.1)\n",
      "Requirement already satisfied: sentinels in c:\\users\\cassio souza\\appdata\\roaming\\python\\python312\\site-packages (from mongomock>=3.10.0->maggma>=0.57.1->mp-api==0.45.5) (1.1.1)\n",
      "Requirement already satisfied: tzdata>=2022.7 in c:\\programdata\\anaconda3\\lib\\site-packages (from pandas>=2.2->maggma>=0.57.1->mp-api==0.45.5) (2023.3)\n",
      "Requirement already satisfied: tenacity>=6.2.0 in c:\\programdata\\anaconda3\\lib\\site-packages (from plotly>=5.0.0->pymatgen!=2024.2.20,>=2022.3.7->mp-api==0.45.5) (8.2.3)\n",
      "Requirement already satisfied: PyYAML>=3.01 in c:\\programdata\\anaconda3\\lib\\site-packages (from pybtex~=0.24->emmet-core>=0.84.3rc6->mp-api==0.45.5) (6.0.1)\n",
      "Requirement already satisfied: latexcodec>=1.0.4 in c:\\users\\cassio souza\\appdata\\roaming\\python\\python312\\site-packages (from pybtex~=0.24->emmet-core>=0.84.3rc6->mp-api==0.45.5) (3.0.1)\n",
      "Requirement already satisfied: annotated-types>=0.6.0 in c:\\programdata\\anaconda3\\lib\\site-packages (from pydantic>=2.0->emmet-core>=0.84.3rc6->mp-api==0.45.5) (0.6.0)\n",
      "Requirement already satisfied: pydantic-core==2.33.2 in c:\\users\\cassio souza\\appdata\\roaming\\python\\python312\\site-packages (from pydantic>=2.0->emmet-core>=0.84.3rc6->mp-api==0.45.5) (2.33.2)\n",
      "Requirement already satisfied: typing-inspection>=0.4.0 in c:\\users\\cassio souza\\appdata\\roaming\\python\\python312\\site-packages (from pydantic>=2.0->emmet-core>=0.84.3rc6->mp-api==0.45.5) (0.4.1)\n",
      "Requirement already satisfied: python-dotenv>=0.21.0 in c:\\programdata\\anaconda3\\lib\\site-packages (from pydantic-settings>=2.0->emmet-core>=0.84.3rc6->mp-api==0.45.5) (0.21.0)\n",
      "Requirement already satisfied: six>=1.5 in c:\\programdata\\anaconda3\\lib\\site-packages (from python-dateutil>=2.8.2->maggma>=0.57.1->mp-api==0.45.5) (1.16.0)\n",
      "Requirement already satisfied: ruamel.yaml.clib>=0.2.7 in c:\\programdata\\anaconda3\\lib\\site-packages (from ruamel.yaml>=0.17->maggma>=0.57.1->mp-api==0.45.5) (0.2.8)\n",
      "Requirement already satisfied: paramiko>=2.7.2 in c:\\programdata\\anaconda3\\lib\\site-packages (from sshtunnel>=0.1.5->maggma>=0.57.1->mp-api==0.45.5) (2.8.1)\n",
      "Requirement already satisfied: mpmath<1.4,>=1.1.0 in c:\\programdata\\anaconda3\\lib\\site-packages (from sympy>=1.3->pymatgen!=2024.2.20,>=2022.3.7->mp-api==0.45.5) (1.3.0)\n",
      "Requirement already satisfied: colorama in c:\\programdata\\anaconda3\\lib\\site-packages (from tqdm>=4.19.6->maggma>=0.57.1->mp-api==0.45.5) (0.4.6)\n",
      "Requirement already satisfied: bcrypt>=3.1.3 in c:\\programdata\\anaconda3\\lib\\site-packages (from paramiko>=2.7.2->sshtunnel>=0.1.5->maggma>=0.57.1->mp-api==0.45.5) (3.2.0)\n",
      "Requirement already satisfied: cryptography>=2.5 in c:\\programdata\\anaconda3\\lib\\site-packages (from paramiko>=2.7.2->sshtunnel>=0.1.5->maggma>=0.57.1->mp-api==0.45.5) (43.0.0)\n",
      "Requirement already satisfied: pynacl>=1.0.1 in c:\\programdata\\anaconda3\\lib\\site-packages (from paramiko>=2.7.2->sshtunnel>=0.1.5->maggma>=0.57.1->mp-api==0.45.5) (1.5.0)\n",
      "Requirement already satisfied: cffi>=1.1 in c:\\programdata\\anaconda3\\lib\\site-packages (from bcrypt>=3.1.3->paramiko>=2.7.2->sshtunnel>=0.1.5->maggma>=0.57.1->mp-api==0.45.5) (1.17.1)\n",
      "Requirement already satisfied: pycparser in c:\\programdata\\anaconda3\\lib\\site-packages (from cffi>=1.1->bcrypt>=3.1.3->paramiko>=2.7.2->sshtunnel>=0.1.5->maggma>=0.57.1->mp-api==0.45.5) (2.21)\n",
      "Using cached emmet_core-0.84.9-py3-none-any.whl (241 kB)\n",
      "Using cached pydantic-2.11.7-py3-none-any.whl (444 kB)\n",
      "Using cached botocore-1.40.11-py3-none-any.whl (14.0 MB)\n",
      "Installing collected packages: pydantic, botocore, emmet-core\n",
      "  Attempting uninstall: pydantic\n",
      "    Found existing installation: pydantic 1.10.22\n",
      "    Uninstalling pydantic-1.10.22:\n",
      "      Successfully uninstalled pydantic-1.10.22\n",
      "  Attempting uninstall: botocore\n",
      "    Found existing installation: botocore 1.39.11\n",
      "    Uninstalling botocore-1.39.11:\n",
      "      Successfully uninstalled botocore-1.39.11\n",
      "  Attempting uninstall: emmet-core\n",
      "    Found existing installation: emmet-core 0.57.0\n",
      "    Uninstalling emmet-core-0.57.0:\n",
      "      Successfully uninstalled emmet-core-0.57.0\n",
      "Successfully installed botocore-1.40.11 emmet-core-0.84.9 pydantic-2.11.7\n"
     ]
    },
    {
     "name": "stderr",
     "output_type": "stream",
     "text": [
      "ERROR: pip's dependency resolver does not currently take into account all the packages that are installed. This behaviour is the source of the following dependency conflicts.\n",
      "aiobotocore 2.24.1 requires botocore<1.39.12,>=1.39.9, but you have botocore 1.40.11 which is incompatible.\n",
      "s3fs 2024.6.1 requires fsspec==2024.6.1.*, but you have fsspec 2025.7.0 which is incompatible.\n"
     ]
    },
    {
     "name": "stdout",
     "output_type": "stream",
     "text": [
      "Defaulting to user installation because normal site-packages is not writeable\n",
      "Requirement already satisfied: pymatgen in c:\\users\\cassio souza\\appdata\\roaming\\python\\python312\\site-packages (2025.6.14)\n",
      "Requirement already satisfied: bibtexparser>=1.4.0 in c:\\users\\cassio souza\\appdata\\roaming\\python\\python312\\site-packages (from pymatgen) (1.4.3)\n",
      "Requirement already satisfied: joblib>=1 in c:\\programdata\\anaconda3\\lib\\site-packages (from pymatgen) (1.4.2)\n",
      "Requirement already satisfied: matplotlib>=3.8 in c:\\programdata\\anaconda3\\lib\\site-packages (from pymatgen) (3.9.2)\n",
      "Requirement already satisfied: monty>=2025.1.9 in c:\\users\\cassio souza\\appdata\\roaming\\python\\python312\\site-packages (from pymatgen) (2025.3.3)\n",
      "Requirement already satisfied: networkx>=2.7 in c:\\programdata\\anaconda3\\lib\\site-packages (from pymatgen) (3.3)\n",
      "Requirement already satisfied: numpy<3,>=1.25.0 in c:\\programdata\\anaconda3\\lib\\site-packages (from pymatgen) (1.26.4)\n",
      "Requirement already satisfied: orjson<4,>=3.10 in c:\\users\\cassio souza\\appdata\\roaming\\python\\python312\\site-packages (from pymatgen) (3.11.2)\n",
      "Requirement already satisfied: palettable>=3.3.3 in c:\\users\\cassio souza\\appdata\\roaming\\python\\python312\\site-packages (from pymatgen) (3.3.3)\n",
      "Requirement already satisfied: pandas>=2 in c:\\programdata\\anaconda3\\lib\\site-packages (from pymatgen) (2.2.2)\n",
      "Requirement already satisfied: plotly>=5.0.0 in c:\\programdata\\anaconda3\\lib\\site-packages (from pymatgen) (5.24.1)\n",
      "Requirement already satisfied: requests>=2.32 in c:\\programdata\\anaconda3\\lib\\site-packages (from pymatgen) (2.32.3)\n",
      "Requirement already satisfied: ruamel.yaml>=0.17.0 in c:\\programdata\\anaconda3\\lib\\site-packages (from pymatgen) (0.18.6)\n",
      "Requirement already satisfied: scipy>=1.13.0 in c:\\users\\cassio souza\\appdata\\roaming\\python\\python312\\site-packages (from pymatgen) (1.16.1)\n",
      "Requirement already satisfied: spglib>=2.5 in c:\\users\\cassio souza\\appdata\\roaming\\python\\python312\\site-packages (from pymatgen) (2.6.0)\n",
      "Requirement already satisfied: sympy>=1.3 in c:\\users\\cassio souza\\appdata\\roaming\\python\\python312\\site-packages (from pymatgen) (1.14.0)\n",
      "Requirement already satisfied: tabulate>=0.9 in c:\\programdata\\anaconda3\\lib\\site-packages (from pymatgen) (0.9.0)\n",
      "Requirement already satisfied: tqdm>=4.60 in c:\\programdata\\anaconda3\\lib\\site-packages (from pymatgen) (4.66.5)\n",
      "Requirement already satisfied: uncertainties>=3.1.4 in c:\\users\\cassio souza\\appdata\\roaming\\python\\python312\\site-packages (from pymatgen) (3.2.3)\n",
      "Requirement already satisfied: pyparsing>=2.0.3 in c:\\programdata\\anaconda3\\lib\\site-packages (from bibtexparser>=1.4.0->pymatgen) (3.1.2)\n",
      "Requirement already satisfied: contourpy>=1.0.1 in c:\\programdata\\anaconda3\\lib\\site-packages (from matplotlib>=3.8->pymatgen) (1.2.0)\n",
      "Requirement already satisfied: cycler>=0.10 in c:\\programdata\\anaconda3\\lib\\site-packages (from matplotlib>=3.8->pymatgen) (0.11.0)\n",
      "Requirement already satisfied: fonttools>=4.22.0 in c:\\programdata\\anaconda3\\lib\\site-packages (from matplotlib>=3.8->pymatgen) (4.51.0)\n",
      "Requirement already satisfied: kiwisolver>=1.3.1 in c:\\programdata\\anaconda3\\lib\\site-packages (from matplotlib>=3.8->pymatgen) (1.4.4)\n",
      "Requirement already satisfied: packaging>=20.0 in c:\\programdata\\anaconda3\\lib\\site-packages (from matplotlib>=3.8->pymatgen) (24.1)\n",
      "Requirement already satisfied: pillow>=8 in c:\\programdata\\anaconda3\\lib\\site-packages (from matplotlib>=3.8->pymatgen) (10.4.0)\n",
      "Requirement already satisfied: python-dateutil>=2.7 in c:\\programdata\\anaconda3\\lib\\site-packages (from matplotlib>=3.8->pymatgen) (2.9.0.post0)\n",
      "Requirement already satisfied: pytz>=2020.1 in c:\\programdata\\anaconda3\\lib\\site-packages (from pandas>=2->pymatgen) (2024.1)\n",
      "Requirement already satisfied: tzdata>=2022.7 in c:\\programdata\\anaconda3\\lib\\site-packages (from pandas>=2->pymatgen) (2023.3)\n",
      "Requirement already satisfied: tenacity>=6.2.0 in c:\\programdata\\anaconda3\\lib\\site-packages (from plotly>=5.0.0->pymatgen) (8.2.3)\n",
      "Requirement already satisfied: charset-normalizer<4,>=2 in c:\\programdata\\anaconda3\\lib\\site-packages (from requests>=2.32->pymatgen) (3.3.2)\n",
      "Requirement already satisfied: idna<4,>=2.5 in c:\\programdata\\anaconda3\\lib\\site-packages (from requests>=2.32->pymatgen) (3.7)\n",
      "Requirement already satisfied: urllib3<3,>=1.21.1 in c:\\programdata\\anaconda3\\lib\\site-packages (from requests>=2.32->pymatgen) (2.2.3)\n",
      "Requirement already satisfied: certifi>=2017.4.17 in c:\\programdata\\anaconda3\\lib\\site-packages (from requests>=2.32->pymatgen) (2025.4.26)\n",
      "Requirement already satisfied: ruamel.yaml.clib>=0.2.7 in c:\\programdata\\anaconda3\\lib\\site-packages (from ruamel.yaml>=0.17.0->pymatgen) (0.2.8)\n",
      "Requirement already satisfied: typing-extensions>=4.9.0 in c:\\users\\cassio souza\\appdata\\roaming\\python\\python312\\site-packages (from spglib>=2.5->pymatgen) (4.14.1)\n",
      "Requirement already satisfied: mpmath<1.4,>=1.1.0 in c:\\programdata\\anaconda3\\lib\\site-packages (from sympy>=1.3->pymatgen) (1.3.0)\n",
      "Requirement already satisfied: colorama in c:\\programdata\\anaconda3\\lib\\site-packages (from tqdm>=4.60->pymatgen) (0.4.6)\n",
      "Requirement already satisfied: six>=1.5 in c:\\programdata\\anaconda3\\lib\\site-packages (from python-dateutil>=2.7->matplotlib>=3.8->pymatgen) (1.16.0)\n",
      "Defaulting to user installation because normal site-packages is not writeable\n",
      "Requirement already satisfied: matminer in c:\\users\\cassio souza\\appdata\\roaming\\python\\python312\\site-packages (0.9.3)\n",
      "Requirement already satisfied: numpy>=1.23 in c:\\programdata\\anaconda3\\lib\\site-packages (from matminer) (1.26.4)\n",
      "Requirement already satisfied: requests~=2.31 in c:\\programdata\\anaconda3\\lib\\site-packages (from matminer) (2.32.3)\n",
      "Requirement already satisfied: pandas<3,>=1.5 in c:\\programdata\\anaconda3\\lib\\site-packages (from matminer) (2.2.2)\n",
      "Requirement already satisfied: tqdm~=4.66 in c:\\programdata\\anaconda3\\lib\\site-packages (from matminer) (4.66.5)\n",
      "Requirement already satisfied: pymongo~=4.5 in c:\\users\\cassio souza\\appdata\\roaming\\python\\python312\\site-packages (from matminer) (4.10.1)\n",
      "Requirement already satisfied: scikit-learn~=1.3 in c:\\users\\cassio souza\\appdata\\roaming\\python\\python312\\site-packages (from matminer) (1.7.1)\n",
      "Requirement already satisfied: sympy~=1.11 in c:\\users\\cassio souza\\appdata\\roaming\\python\\python312\\site-packages (from matminer) (1.14.0)\n",
      "Requirement already satisfied: monty>=2023 in c:\\users\\cassio souza\\appdata\\roaming\\python\\python312\\site-packages (from matminer) (2025.3.3)\n",
      "Requirement already satisfied: pymatgen>=2023 in c:\\users\\cassio souza\\appdata\\roaming\\python\\python312\\site-packages (from matminer) (2025.6.14)\n",
      "Requirement already satisfied: ruamel.yaml in c:\\programdata\\anaconda3\\lib\\site-packages (from monty>=2023->matminer) (0.18.6)\n",
      "Requirement already satisfied: python-dateutil>=2.8.2 in c:\\programdata\\anaconda3\\lib\\site-packages (from pandas<3,>=1.5->matminer) (2.9.0.post0)\n",
      "Requirement already satisfied: pytz>=2020.1 in c:\\programdata\\anaconda3\\lib\\site-packages (from pandas<3,>=1.5->matminer) (2024.1)\n",
      "Requirement already satisfied: tzdata>=2022.7 in c:\\programdata\\anaconda3\\lib\\site-packages (from pandas<3,>=1.5->matminer) (2023.3)\n",
      "Requirement already satisfied: bibtexparser>=1.4.0 in c:\\users\\cassio souza\\appdata\\roaming\\python\\python312\\site-packages (from pymatgen>=2023->matminer) (1.4.3)\n",
      "Requirement already satisfied: joblib>=1 in c:\\programdata\\anaconda3\\lib\\site-packages (from pymatgen>=2023->matminer) (1.4.2)\n",
      "Requirement already satisfied: matplotlib>=3.8 in c:\\programdata\\anaconda3\\lib\\site-packages (from pymatgen>=2023->matminer) (3.9.2)\n",
      "Requirement already satisfied: networkx>=2.7 in c:\\programdata\\anaconda3\\lib\\site-packages (from pymatgen>=2023->matminer) (3.3)\n",
      "Requirement already satisfied: orjson<4,>=3.10 in c:\\users\\cassio souza\\appdata\\roaming\\python\\python312\\site-packages (from pymatgen>=2023->matminer) (3.11.2)\n",
      "Requirement already satisfied: palettable>=3.3.3 in c:\\users\\cassio souza\\appdata\\roaming\\python\\python312\\site-packages (from pymatgen>=2023->matminer) (3.3.3)\n",
      "Requirement already satisfied: plotly>=5.0.0 in c:\\programdata\\anaconda3\\lib\\site-packages (from pymatgen>=2023->matminer) (5.24.1)\n",
      "Requirement already satisfied: scipy>=1.13.0 in c:\\users\\cassio souza\\appdata\\roaming\\python\\python312\\site-packages (from pymatgen>=2023->matminer) (1.16.1)\n",
      "Requirement already satisfied: spglib>=2.5 in c:\\users\\cassio souza\\appdata\\roaming\\python\\python312\\site-packages (from pymatgen>=2023->matminer) (2.6.0)\n",
      "Requirement already satisfied: tabulate>=0.9 in c:\\programdata\\anaconda3\\lib\\site-packages (from pymatgen>=2023->matminer) (0.9.0)\n",
      "Requirement already satisfied: uncertainties>=3.1.4 in c:\\users\\cassio souza\\appdata\\roaming\\python\\python312\\site-packages (from pymatgen>=2023->matminer) (3.2.3)\n",
      "Requirement already satisfied: dnspython<3.0.0,>=1.16.0 in c:\\users\\cassio souza\\appdata\\roaming\\python\\python312\\site-packages (from pymongo~=4.5->matminer) (2.7.0)\n",
      "Requirement already satisfied: charset-normalizer<4,>=2 in c:\\programdata\\anaconda3\\lib\\site-packages (from requests~=2.31->matminer) (3.3.2)\n",
      "Requirement already satisfied: idna<4,>=2.5 in c:\\programdata\\anaconda3\\lib\\site-packages (from requests~=2.31->matminer) (3.7)\n",
      "Requirement already satisfied: urllib3<3,>=1.21.1 in c:\\programdata\\anaconda3\\lib\\site-packages (from requests~=2.31->matminer) (2.2.3)\n",
      "Requirement already satisfied: certifi>=2017.4.17 in c:\\programdata\\anaconda3\\lib\\site-packages (from requests~=2.31->matminer) (2025.4.26)\n",
      "Requirement already satisfied: threadpoolctl>=3.1.0 in c:\\programdata\\anaconda3\\lib\\site-packages (from scikit-learn~=1.3->matminer) (3.5.0)\n",
      "Requirement already satisfied: mpmath<1.4,>=1.1.0 in c:\\programdata\\anaconda3\\lib\\site-packages (from sympy~=1.11->matminer) (1.3.0)\n",
      "Requirement already satisfied: colorama in c:\\programdata\\anaconda3\\lib\\site-packages (from tqdm~=4.66->matminer) (0.4.6)\n",
      "Requirement already satisfied: pyparsing>=2.0.3 in c:\\programdata\\anaconda3\\lib\\site-packages (from bibtexparser>=1.4.0->pymatgen>=2023->matminer) (3.1.2)\n",
      "Requirement already satisfied: contourpy>=1.0.1 in c:\\programdata\\anaconda3\\lib\\site-packages (from matplotlib>=3.8->pymatgen>=2023->matminer) (1.2.0)\n",
      "Requirement already satisfied: cycler>=0.10 in c:\\programdata\\anaconda3\\lib\\site-packages (from matplotlib>=3.8->pymatgen>=2023->matminer) (0.11.0)\n",
      "Requirement already satisfied: fonttools>=4.22.0 in c:\\programdata\\anaconda3\\lib\\site-packages (from matplotlib>=3.8->pymatgen>=2023->matminer) (4.51.0)\n",
      "Requirement already satisfied: kiwisolver>=1.3.1 in c:\\programdata\\anaconda3\\lib\\site-packages (from matplotlib>=3.8->pymatgen>=2023->matminer) (1.4.4)\n",
      "Requirement already satisfied: packaging>=20.0 in c:\\programdata\\anaconda3\\lib\\site-packages (from matplotlib>=3.8->pymatgen>=2023->matminer) (24.1)\n",
      "Requirement already satisfied: pillow>=8 in c:\\programdata\\anaconda3\\lib\\site-packages (from matplotlib>=3.8->pymatgen>=2023->matminer) (10.4.0)\n",
      "Requirement already satisfied: tenacity>=6.2.0 in c:\\programdata\\anaconda3\\lib\\site-packages (from plotly>=5.0.0->pymatgen>=2023->matminer) (8.2.3)\n",
      "Requirement already satisfied: six>=1.5 in c:\\programdata\\anaconda3\\lib\\site-packages (from python-dateutil>=2.8.2->pandas<3,>=1.5->matminer) (1.16.0)\n",
      "Requirement already satisfied: ruamel.yaml.clib>=0.2.7 in c:\\programdata\\anaconda3\\lib\\site-packages (from ruamel.yaml->monty>=2023->matminer) (0.2.8)\n",
      "Requirement already satisfied: typing-extensions>=4.9.0 in c:\\users\\cassio souza\\appdata\\roaming\\python\\python312\\site-packages (from spglib>=2.5->pymatgen>=2023->matminer) (4.14.1)\n",
      "Defaulting to user installation because normal site-packages is not writeable\n",
      "Requirement already satisfied: aiobotocore in c:\\users\\cassio souza\\appdata\\roaming\\python\\python312\\site-packages (2.24.1)\n",
      "Requirement already satisfied: aiohttp<4.0.0,>=3.9.2 in c:\\programdata\\anaconda3\\lib\\site-packages (from aiobotocore) (3.10.5)\n",
      "Requirement already satisfied: aioitertools<1.0.0,>=0.5.1 in c:\\programdata\\anaconda3\\lib\\site-packages (from aiobotocore) (0.7.1)\n",
      "Collecting botocore<1.39.12,>=1.39.9 (from aiobotocore)\n",
      "  Using cached botocore-1.39.11-py3-none-any.whl.metadata (5.7 kB)\n",
      "Requirement already satisfied: python-dateutil<3.0.0,>=2.1 in c:\\programdata\\anaconda3\\lib\\site-packages (from aiobotocore) (2.9.0.post0)\n",
      "Requirement already satisfied: jmespath<2.0.0,>=0.7.1 in c:\\programdata\\anaconda3\\lib\\site-packages (from aiobotocore) (1.0.1)\n",
      "Requirement already satisfied: multidict<7.0.0,>=6.0.0 in c:\\programdata\\anaconda3\\lib\\site-packages (from aiobotocore) (6.0.4)\n",
      "Requirement already satisfied: wrapt<2.0.0,>=1.10.10 in c:\\programdata\\anaconda3\\lib\\site-packages (from aiobotocore) (1.14.1)\n",
      "Requirement already satisfied: aiohappyeyeballs>=2.3.0 in c:\\programdata\\anaconda3\\lib\\site-packages (from aiohttp<4.0.0,>=3.9.2->aiobotocore) (2.4.0)\n",
      "Requirement already satisfied: aiosignal>=1.1.2 in c:\\programdata\\anaconda3\\lib\\site-packages (from aiohttp<4.0.0,>=3.9.2->aiobotocore) (1.2.0)\n",
      "Requirement already satisfied: attrs>=17.3.0 in c:\\programdata\\anaconda3\\lib\\site-packages (from aiohttp<4.0.0,>=3.9.2->aiobotocore) (23.1.0)\n",
      "Requirement already satisfied: frozenlist>=1.1.1 in c:\\programdata\\anaconda3\\lib\\site-packages (from aiohttp<4.0.0,>=3.9.2->aiobotocore) (1.4.0)\n",
      "Requirement already satisfied: yarl<2.0,>=1.0 in c:\\programdata\\anaconda3\\lib\\site-packages (from aiohttp<4.0.0,>=3.9.2->aiobotocore) (1.11.0)\n",
      "Requirement already satisfied: typing_extensions>=3.7 in c:\\users\\cassio souza\\appdata\\roaming\\python\\python312\\site-packages (from aioitertools<1.0.0,>=0.5.1->aiobotocore) (4.14.1)\n",
      "Requirement already satisfied: urllib3!=2.2.0,<3,>=1.25.4 in c:\\programdata\\anaconda3\\lib\\site-packages (from botocore<1.39.12,>=1.39.9->aiobotocore) (2.2.3)\n",
      "Requirement already satisfied: six>=1.5 in c:\\programdata\\anaconda3\\lib\\site-packages (from python-dateutil<3.0.0,>=2.1->aiobotocore) (1.16.0)\n",
      "Requirement already satisfied: idna>=2.0 in c:\\programdata\\anaconda3\\lib\\site-packages (from yarl<2.0,>=1.0->aiohttp<4.0.0,>=3.9.2->aiobotocore) (3.7)\n",
      "Using cached botocore-1.39.11-py3-none-any.whl (13.9 MB)\n",
      "Installing collected packages: botocore\n",
      "  Attempting uninstall: botocore\n",
      "    Found existing installation: botocore 1.40.11\n",
      "    Uninstalling botocore-1.40.11:\n",
      "      Successfully uninstalled botocore-1.40.11\n",
      "Successfully installed botocore-1.39.11\n"
     ]
    },
    {
     "name": "stderr",
     "output_type": "stream",
     "text": [
      "ERROR: pip's dependency resolver does not currently take into account all the packages that are installed. This behaviour is the source of the following dependency conflicts.\n",
      "boto3 1.40.11 requires botocore<1.41.0,>=1.40.11, but you have botocore 1.39.11 which is incompatible.\n",
      "s3fs 2024.6.1 requires fsspec==2024.6.1.*, but you have fsspec 2025.7.0 which is incompatible.\n"
     ]
    }
   ],
   "source": [
    "!pip install \"pydantic<2.0\"\n",
    "!pip install emmet-core==0.57.0\n",
    "!pip install mp-api==0.45.5\n",
    "!pip install pymatgen\n",
    "!pip install matminer\n",
    "!pip install aiobotocore"
   ]
  },
  {
   "cell_type": "markdown",
   "id": "708f6241-0a81-49b1-a21b-e86592cb1e5c",
   "metadata": {},
   "source": [
    "Etapa 1: Obter sua API Key\n",
    "* Criar acesso em https://materialsproject.org\n",
    "* Copiar a sua PIN Key (no meu caso: sv9BBcTrwKd0WSFnRqhFURQ8pbhNHBkK)"
   ]
  },
  {
   "cell_type": "markdown",
   "id": "a07fb874-a42c-45b1-a168-863b7eeaa464",
   "metadata": {},
   "source": [
    "Etapa 2: Buscar dados reais de materiais\n",
    "\n",
    "Instalar o Matminer"
   ]
  },
  {
   "cell_type": "code",
   "execution_count": 3,
   "id": "2327f4f2-11cb-4b0d-9705-220ac6778d14",
   "metadata": {},
   "outputs": [
    {
     "data": {
      "application/vnd.jupyter.widget-view+json": {
       "model_id": "8c69e30df65c420a8da7c9ef646bc393",
       "version_major": 2,
       "version_minor": 0
      },
      "text/plain": [
       "Retrieving MaterialsDoc documents:   0%|          | 0/12956 [00:00<?, ?it/s]"
      ]
     },
     "metadata": {},
     "output_type": "display_data"
    },
    {
     "name": "stdout",
     "output_type": "stream",
     "text": [
      "Dados estruturais limpos:\n",
      "  material_id formula_pretty   density       volume  nsites\n",
      "0  mp-1245108             Fe  7.965581  1164.168707     100\n",
      "1  mp-1194030             Fe  7.642711   339.737882      28\n",
      "2  mp-1271068             Fe  8.109374    45.741043       4\n",
      "3  mp-1271128             Fe  8.517773    21.773956       2\n",
      "4  mp-1096950             Fe  7.230889    12.824538       1\n"
     ]
    },
    {
     "data": {
      "application/vnd.jupyter.widget-view+json": {
       "model_id": "e274f28aa32a4027950b8bc35d8730ca",
       "version_major": 2,
       "version_minor": 0
      },
      "text/plain": [
       "Retrieving ThermoDoc documents:   0%|          | 0/228 [00:00<?, ?it/s]"
      ]
     },
     "metadata": {},
     "output_type": "display_data"
    },
    {
     "data": {
      "application/vnd.jupyter.widget-view+json": {
       "model_id": "29a3e06aa90248f1a6aa7f313a1271a4",
       "version_major": 2,
       "version_minor": 0
      },
      "text/plain": [
       "Retrieving ThermoDoc documents:   0%|          | 0/230 [00:00<?, ?it/s]"
      ]
     },
     "metadata": {},
     "output_type": "display_data"
    },
    {
     "data": {
      "application/vnd.jupyter.widget-view+json": {
       "model_id": "b78ba36463714fba8e7bda6fb53b6051",
       "version_major": 2,
       "version_minor": 0
      },
      "text/plain": [
       "Retrieving ThermoDoc documents:   0%|          | 0/222 [00:00<?, ?it/s]"
      ]
     },
     "metadata": {},
     "output_type": "display_data"
    },
    {
     "data": {
      "application/vnd.jupyter.widget-view+json": {
       "model_id": "c52a1a489fea4bc4b5107283aac9533c",
       "version_major": 2,
       "version_minor": 0
      },
      "text/plain": [
       "Retrieving ThermoDoc documents:   0%|          | 0/216 [00:00<?, ?it/s]"
      ]
     },
     "metadata": {},
     "output_type": "display_data"
    },
    {
     "data": {
      "application/vnd.jupyter.widget-view+json": {
       "model_id": "8f67911dd01f4090a2363300498995e5",
       "version_major": 2,
       "version_minor": 0
      },
      "text/plain": [
       "Retrieving ThermoDoc documents:   0%|          | 0/225 [00:00<?, ?it/s]"
      ]
     },
     "metadata": {},
     "output_type": "display_data"
    },
    {
     "data": {
      "application/vnd.jupyter.widget-view+json": {
       "model_id": "e82db8d62541442ab15ec32b5c95a686",
       "version_major": 2,
       "version_minor": 0
      },
      "text/plain": [
       "Retrieving ThermoDoc documents:   0%|          | 0/231 [00:00<?, ?it/s]"
      ]
     },
     "metadata": {},
     "output_type": "display_data"
    },
    {
     "data": {
      "application/vnd.jupyter.widget-view+json": {
       "model_id": "0833dd8a7aa1436db9af803dcc1f9bab",
       "version_major": 2,
       "version_minor": 0
      },
      "text/plain": [
       "Retrieving ThermoDoc documents:   0%|          | 0/233 [00:00<?, ?it/s]"
      ]
     },
     "metadata": {},
     "output_type": "display_data"
    },
    {
     "data": {
      "application/vnd.jupyter.widget-view+json": {
       "model_id": "547a67ffeeaf4a7db307119dabda7b85",
       "version_major": 2,
       "version_minor": 0
      },
      "text/plain": [
       "Retrieving ThermoDoc documents:   0%|          | 0/223 [00:00<?, ?it/s]"
      ]
     },
     "metadata": {},
     "output_type": "display_data"
    },
    {
     "data": {
      "application/vnd.jupyter.widget-view+json": {
       "model_id": "e31a1cc43b0541b4a71c6cb518ac1622",
       "version_major": 2,
       "version_minor": 0
      },
      "text/plain": [
       "Retrieving ThermoDoc documents:   0%|          | 0/215 [00:00<?, ?it/s]"
      ]
     },
     "metadata": {},
     "output_type": "display_data"
    },
    {
     "data": {
      "application/vnd.jupyter.widget-view+json": {
       "model_id": "42fca0f061ee4b1190e4c3d0e3352867",
       "version_major": 2,
       "version_minor": 0
      },
      "text/plain": [
       "Retrieving ThermoDoc documents:   0%|          | 0/234 [00:00<?, ?it/s]"
      ]
     },
     "metadata": {},
     "output_type": "display_data"
    },
    {
     "data": {
      "application/vnd.jupyter.widget-view+json": {
       "model_id": "e7b2d9f898554298a8f015a583c5d5f5",
       "version_major": 2,
       "version_minor": 0
      },
      "text/plain": [
       "Retrieving ThermoDoc documents:   0%|          | 0/221 [00:00<?, ?it/s]"
      ]
     },
     "metadata": {},
     "output_type": "display_data"
    },
    {
     "data": {
      "application/vnd.jupyter.widget-view+json": {
       "model_id": "737d0582b3134ad49b69cd4115c823cd",
       "version_major": 2,
       "version_minor": 0
      },
      "text/plain": [
       "Retrieving ThermoDoc documents:   0%|          | 0/220 [00:00<?, ?it/s]"
      ]
     },
     "metadata": {},
     "output_type": "display_data"
    },
    {
     "data": {
      "application/vnd.jupyter.widget-view+json": {
       "model_id": "bb1acef4a53d472eb8c00d6f3c14d5fe",
       "version_major": 2,
       "version_minor": 0
      },
      "text/plain": [
       "Retrieving ThermoDoc documents:   0%|          | 0/208 [00:00<?, ?it/s]"
      ]
     },
     "metadata": {},
     "output_type": "display_data"
    },
    {
     "data": {
      "application/vnd.jupyter.widget-view+json": {
       "model_id": "d6fb70719aff45df8d772bd587a9e1cd",
       "version_major": 2,
       "version_minor": 0
      },
      "text/plain": [
       "Retrieving ThermoDoc documents:   0%|          | 0/242 [00:00<?, ?it/s]"
      ]
     },
     "metadata": {},
     "output_type": "display_data"
    },
    {
     "data": {
      "application/vnd.jupyter.widget-view+json": {
       "model_id": "1ec81ac2eef747bb9c0b9cfe6978497b",
       "version_major": 2,
       "version_minor": 0
      },
      "text/plain": [
       "Retrieving ThermoDoc documents:   0%|          | 0/227 [00:00<?, ?it/s]"
      ]
     },
     "metadata": {},
     "output_type": "display_data"
    },
    {
     "data": {
      "application/vnd.jupyter.widget-view+json": {
       "model_id": "3994acb85e034717b4fe5e79f0238250",
       "version_major": 2,
       "version_minor": 0
      },
      "text/plain": [
       "Retrieving ThermoDoc documents:   0%|          | 0/215 [00:00<?, ?it/s]"
      ]
     },
     "metadata": {},
     "output_type": "display_data"
    },
    {
     "data": {
      "application/vnd.jupyter.widget-view+json": {
       "model_id": "57df51771b50402797e165516a16ddda",
       "version_major": 2,
       "version_minor": 0
      },
      "text/plain": [
       "Retrieving ThermoDoc documents:   0%|          | 0/202 [00:00<?, ?it/s]"
      ]
     },
     "metadata": {},
     "output_type": "display_data"
    },
    {
     "data": {
      "application/vnd.jupyter.widget-view+json": {
       "model_id": "510cd01e0560470fab7e59ae04a6852e",
       "version_major": 2,
       "version_minor": 0
      },
      "text/plain": [
       "Retrieving ThermoDoc documents:   0%|          | 0/225 [00:00<?, ?it/s]"
      ]
     },
     "metadata": {},
     "output_type": "display_data"
    },
    {
     "data": {
      "application/vnd.jupyter.widget-view+json": {
       "model_id": "8d26fb2f5ff144a6adfb65474a391d02",
       "version_major": 2,
       "version_minor": 0
      },
      "text/plain": [
       "Retrieving ThermoDoc documents:   0%|          | 0/208 [00:00<?, ?it/s]"
      ]
     },
     "metadata": {},
     "output_type": "display_data"
    },
    {
     "data": {
      "application/vnd.jupyter.widget-view+json": {
       "model_id": "e3d13f180d2b435eb2395992c2d8623b",
       "version_major": 2,
       "version_minor": 0
      },
      "text/plain": [
       "Retrieving ThermoDoc documents:   0%|          | 0/219 [00:00<?, ?it/s]"
      ]
     },
     "metadata": {},
     "output_type": "display_data"
    },
    {
     "data": {
      "application/vnd.jupyter.widget-view+json": {
       "model_id": "e861e035fe774ac5a0244b0edac2b836",
       "version_major": 2,
       "version_minor": 0
      },
      "text/plain": [
       "Retrieving ThermoDoc documents:   0%|          | 0/204 [00:00<?, ?it/s]"
      ]
     },
     "metadata": {},
     "output_type": "display_data"
    },
    {
     "data": {
      "application/vnd.jupyter.widget-view+json": {
       "model_id": "b2a3f28bf86444fe97d9cecf710e0efe",
       "version_major": 2,
       "version_minor": 0
      },
      "text/plain": [
       "Retrieving ThermoDoc documents:   0%|          | 0/201 [00:00<?, ?it/s]"
      ]
     },
     "metadata": {},
     "output_type": "display_data"
    },
    {
     "data": {
      "application/vnd.jupyter.widget-view+json": {
       "model_id": "46bc5392c45a4fd1ae24b9cfebf5d660",
       "version_major": 2,
       "version_minor": 0
      },
      "text/plain": [
       "Retrieving ThermoDoc documents:   0%|          | 0/203 [00:00<?, ?it/s]"
      ]
     },
     "metadata": {},
     "output_type": "display_data"
    },
    {
     "data": {
      "application/vnd.jupyter.widget-view+json": {
       "model_id": "bf8d9b7e149645aa92d3749245c2e205",
       "version_major": 2,
       "version_minor": 0
      },
      "text/plain": [
       "Retrieving ThermoDoc documents:   0%|          | 0/200 [00:00<?, ?it/s]"
      ]
     },
     "metadata": {},
     "output_type": "display_data"
    },
    {
     "data": {
      "application/vnd.jupyter.widget-view+json": {
       "model_id": "d4f1794bc09e4a81b796210abc343a33",
       "version_major": 2,
       "version_minor": 0
      },
      "text/plain": [
       "Retrieving ThermoDoc documents:   0%|          | 0/202 [00:00<?, ?it/s]"
      ]
     },
     "metadata": {},
     "output_type": "display_data"
    },
    {
     "data": {
      "application/vnd.jupyter.widget-view+json": {
       "model_id": "a1dbbe02b4314a39801fd71a279bf663",
       "version_major": 2,
       "version_minor": 0
      },
      "text/plain": [
       "Retrieving ThermoDoc documents:   0%|          | 0/202 [00:00<?, ?it/s]"
      ]
     },
     "metadata": {},
     "output_type": "display_data"
    },
    {
     "data": {
      "application/vnd.jupyter.widget-view+json": {
       "model_id": "9835c73e2e324eb0b73485cf3d052bc9",
       "version_major": 2,
       "version_minor": 0
      },
      "text/plain": [
       "Retrieving ThermoDoc documents:   0%|          | 0/202 [00:00<?, ?it/s]"
      ]
     },
     "metadata": {},
     "output_type": "display_data"
    },
    {
     "data": {
      "application/vnd.jupyter.widget-view+json": {
       "model_id": "27544dcfffc44ba2a761e809b2338988",
       "version_major": 2,
       "version_minor": 0
      },
      "text/plain": [
       "Retrieving ThermoDoc documents:   0%|          | 0/200 [00:00<?, ?it/s]"
      ]
     },
     "metadata": {},
     "output_type": "display_data"
    },
    {
     "data": {
      "application/vnd.jupyter.widget-view+json": {
       "model_id": "083eddf8fd3249b692228cd977a2e4eb",
       "version_major": 2,
       "version_minor": 0
      },
      "text/plain": [
       "Retrieving ThermoDoc documents:   0%|          | 0/202 [00:00<?, ?it/s]"
      ]
     },
     "metadata": {},
     "output_type": "display_data"
    },
    {
     "data": {
      "application/vnd.jupyter.widget-view+json": {
       "model_id": "77e6603c643f4fdbbf535cd61dd36e6d",
       "version_major": 2,
       "version_minor": 0
      },
      "text/plain": [
       "Retrieving ThermoDoc documents:   0%|          | 0/201 [00:00<?, ?it/s]"
      ]
     },
     "metadata": {},
     "output_type": "display_data"
    },
    {
     "data": {
      "application/vnd.jupyter.widget-view+json": {
       "model_id": "c5ba20379264417db8c2b9e4d9a1b714",
       "version_major": 2,
       "version_minor": 0
      },
      "text/plain": [
       "Retrieving ThermoDoc documents:   0%|          | 0/205 [00:00<?, ?it/s]"
      ]
     },
     "metadata": {},
     "output_type": "display_data"
    },
    {
     "data": {
      "application/vnd.jupyter.widget-view+json": {
       "model_id": "b050b687c7644440aa53b85254ef929f",
       "version_major": 2,
       "version_minor": 0
      },
      "text/plain": [
       "Retrieving ThermoDoc documents:   0%|          | 0/201 [00:00<?, ?it/s]"
      ]
     },
     "metadata": {},
     "output_type": "display_data"
    },
    {
     "data": {
      "application/vnd.jupyter.widget-view+json": {
       "model_id": "648ab22c6f9245caa9bd8347401b1f1a",
       "version_major": 2,
       "version_minor": 0
      },
      "text/plain": [
       "Retrieving ThermoDoc documents:   0%|          | 0/200 [00:00<?, ?it/s]"
      ]
     },
     "metadata": {},
     "output_type": "display_data"
    },
    {
     "data": {
      "application/vnd.jupyter.widget-view+json": {
       "model_id": "c6ebcdad7146401c90d1fb2612f892ae",
       "version_major": 2,
       "version_minor": 0
      },
      "text/plain": [
       "Retrieving ThermoDoc documents:   0%|          | 0/201 [00:00<?, ?it/s]"
      ]
     },
     "metadata": {},
     "output_type": "display_data"
    },
    {
     "data": {
      "application/vnd.jupyter.widget-view+json": {
       "model_id": "9145cdb1c2f7406681666dd686f16553",
       "version_major": 2,
       "version_minor": 0
      },
      "text/plain": [
       "Retrieving ThermoDoc documents:   0%|          | 0/203 [00:00<?, ?it/s]"
      ]
     },
     "metadata": {},
     "output_type": "display_data"
    },
    {
     "data": {
      "application/vnd.jupyter.widget-view+json": {
       "model_id": "b828645dfbac4c3bb33fead5e21a1e4b",
       "version_major": 2,
       "version_minor": 0
      },
      "text/plain": [
       "Retrieving ThermoDoc documents:   0%|          | 0/200 [00:00<?, ?it/s]"
      ]
     },
     "metadata": {},
     "output_type": "display_data"
    },
    {
     "data": {
      "application/vnd.jupyter.widget-view+json": {
       "model_id": "1a443f5d0d374711ad1a639d68c744e2",
       "version_major": 2,
       "version_minor": 0
      },
      "text/plain": [
       "Retrieving ThermoDoc documents:   0%|          | 0/201 [00:00<?, ?it/s]"
      ]
     },
     "metadata": {},
     "output_type": "display_data"
    },
    {
     "data": {
      "application/vnd.jupyter.widget-view+json": {
       "model_id": "9ee54f1b00454741b937ca1120431962",
       "version_major": 2,
       "version_minor": 0
      },
      "text/plain": [
       "Retrieving ThermoDoc documents:   0%|          | 0/201 [00:00<?, ?it/s]"
      ]
     },
     "metadata": {},
     "output_type": "display_data"
    },
    {
     "data": {
      "application/vnd.jupyter.widget-view+json": {
       "model_id": "ddb0cc38237e42339fd6b0d64775d6d2",
       "version_major": 2,
       "version_minor": 0
      },
      "text/plain": [
       "Retrieving ThermoDoc documents:   0%|          | 0/201 [00:00<?, ?it/s]"
      ]
     },
     "metadata": {},
     "output_type": "display_data"
    },
    {
     "data": {
      "application/vnd.jupyter.widget-view+json": {
       "model_id": "8409ee10f2fa4ca6831d30b53b3f2d6c",
       "version_major": 2,
       "version_minor": 0
      },
      "text/plain": [
       "Retrieving ThermoDoc documents:   0%|          | 0/229 [00:00<?, ?it/s]"
      ]
     },
     "metadata": {},
     "output_type": "display_data"
    },
    {
     "data": {
      "application/vnd.jupyter.widget-view+json": {
       "model_id": "8e31854c3fe342d790db8d4ecd8ec135",
       "version_major": 2,
       "version_minor": 0
      },
      "text/plain": [
       "Retrieving ThermoDoc documents:   0%|          | 0/234 [00:00<?, ?it/s]"
      ]
     },
     "metadata": {},
     "output_type": "display_data"
    },
    {
     "data": {
      "application/vnd.jupyter.widget-view+json": {
       "model_id": "18b6579319ee4709ab39779375371495",
       "version_major": 2,
       "version_minor": 0
      },
      "text/plain": [
       "Retrieving ThermoDoc documents:   0%|          | 0/221 [00:00<?, ?it/s]"
      ]
     },
     "metadata": {},
     "output_type": "display_data"
    },
    {
     "data": {
      "application/vnd.jupyter.widget-view+json": {
       "model_id": "8bb236d406f84d329862bd6457f4812e",
       "version_major": 2,
       "version_minor": 0
      },
      "text/plain": [
       "Retrieving ThermoDoc documents:   0%|          | 0/212 [00:00<?, ?it/s]"
      ]
     },
     "metadata": {},
     "output_type": "display_data"
    },
    {
     "data": {
      "application/vnd.jupyter.widget-view+json": {
       "model_id": "1096e40c3031443287e7c1a6aecf5ea7",
       "version_major": 2,
       "version_minor": 0
      },
      "text/plain": [
       "Retrieving ThermoDoc documents:   0%|          | 0/216 [00:00<?, ?it/s]"
      ]
     },
     "metadata": {},
     "output_type": "display_data"
    },
    {
     "data": {
      "application/vnd.jupyter.widget-view+json": {
       "model_id": "1d910d8d5dfb42bab597f5f234f16bfe",
       "version_major": 2,
       "version_minor": 0
      },
      "text/plain": [
       "Retrieving ThermoDoc documents:   0%|          | 0/203 [00:00<?, ?it/s]"
      ]
     },
     "metadata": {},
     "output_type": "display_data"
    },
    {
     "data": {
      "application/vnd.jupyter.widget-view+json": {
       "model_id": "710f6e1bfdbd466ab5b81d25126e5efc",
       "version_major": 2,
       "version_minor": 0
      },
      "text/plain": [
       "Retrieving ThermoDoc documents:   0%|          | 0/200 [00:00<?, ?it/s]"
      ]
     },
     "metadata": {},
     "output_type": "display_data"
    },
    {
     "data": {
      "application/vnd.jupyter.widget-view+json": {
       "model_id": "a2cd6eb8db7c419c8c92efdba000817e",
       "version_major": 2,
       "version_minor": 0
      },
      "text/plain": [
       "Retrieving ThermoDoc documents:   0%|          | 0/201 [00:00<?, ?it/s]"
      ]
     },
     "metadata": {},
     "output_type": "display_data"
    },
    {
     "data": {
      "application/vnd.jupyter.widget-view+json": {
       "model_id": "63eab5731bc448c3aa6dc79e105eeb83",
       "version_major": 2,
       "version_minor": 0
      },
      "text/plain": [
       "Retrieving ThermoDoc documents:   0%|          | 0/200 [00:00<?, ?it/s]"
      ]
     },
     "metadata": {},
     "output_type": "display_data"
    },
    {
     "data": {
      "application/vnd.jupyter.widget-view+json": {
       "model_id": "e2985535c3c049da9b67735d5d4c6d3f",
       "version_major": 2,
       "version_minor": 0
      },
      "text/plain": [
       "Retrieving ThermoDoc documents:   0%|          | 0/202 [00:00<?, ?it/s]"
      ]
     },
     "metadata": {},
     "output_type": "display_data"
    },
    {
     "data": {
      "application/vnd.jupyter.widget-view+json": {
       "model_id": "2ee0b3c69ff348ecbd2df5e32dbfb29e",
       "version_major": 2,
       "version_minor": 0
      },
      "text/plain": [
       "Retrieving ThermoDoc documents:   0%|          | 0/206 [00:00<?, ?it/s]"
      ]
     },
     "metadata": {},
     "output_type": "display_data"
    },
    {
     "data": {
      "application/vnd.jupyter.widget-view+json": {
       "model_id": "f36aa981ce3345808c415ae3256278e2",
       "version_major": 2,
       "version_minor": 0
      },
      "text/plain": [
       "Retrieving ThermoDoc documents:   0%|          | 0/201 [00:00<?, ?it/s]"
      ]
     },
     "metadata": {},
     "output_type": "display_data"
    },
    {
     "data": {
      "application/vnd.jupyter.widget-view+json": {
       "model_id": "f80ded316c45437ea76535f28ce9fa60",
       "version_major": 2,
       "version_minor": 0
      },
      "text/plain": [
       "Retrieving ThermoDoc documents:   0%|          | 0/201 [00:00<?, ?it/s]"
      ]
     },
     "metadata": {},
     "output_type": "display_data"
    },
    {
     "data": {
      "application/vnd.jupyter.widget-view+json": {
       "model_id": "3358836522da4daf854dd082d7e0b561",
       "version_major": 2,
       "version_minor": 0
      },
      "text/plain": [
       "Retrieving ThermoDoc documents:   0%|          | 0/206 [00:00<?, ?it/s]"
      ]
     },
     "metadata": {},
     "output_type": "display_data"
    },
    {
     "data": {
      "application/vnd.jupyter.widget-view+json": {
       "model_id": "2e5f5396a7c0444595335b92605577d3",
       "version_major": 2,
       "version_minor": 0
      },
      "text/plain": [
       "Retrieving ThermoDoc documents:   0%|          | 0/201 [00:00<?, ?it/s]"
      ]
     },
     "metadata": {},
     "output_type": "display_data"
    },
    {
     "data": {
      "application/vnd.jupyter.widget-view+json": {
       "model_id": "d55de33246f94c3a9b5d52e6d9a5a901",
       "version_major": 2,
       "version_minor": 0
      },
      "text/plain": [
       "Retrieving ThermoDoc documents:   0%|          | 0/204 [00:00<?, ?it/s]"
      ]
     },
     "metadata": {},
     "output_type": "display_data"
    },
    {
     "data": {
      "application/vnd.jupyter.widget-view+json": {
       "model_id": "06102033017a45999c350ab13b267997",
       "version_major": 2,
       "version_minor": 0
      },
      "text/plain": [
       "Retrieving ThermoDoc documents:   0%|          | 0/200 [00:00<?, ?it/s]"
      ]
     },
     "metadata": {},
     "output_type": "display_data"
    },
    {
     "data": {
      "application/vnd.jupyter.widget-view+json": {
       "model_id": "6f40aab0de19446ab44b4b0f9683d597",
       "version_major": 2,
       "version_minor": 0
      },
      "text/plain": [
       "Retrieving ThermoDoc documents:   0%|          | 0/203 [00:00<?, ?it/s]"
      ]
     },
     "metadata": {},
     "output_type": "display_data"
    },
    {
     "data": {
      "application/vnd.jupyter.widget-view+json": {
       "model_id": "2168a818dd024da892ad1cec0aca7edd",
       "version_major": 2,
       "version_minor": 0
      },
      "text/plain": [
       "Retrieving ThermoDoc documents:   0%|          | 0/202 [00:00<?, ?it/s]"
      ]
     },
     "metadata": {},
     "output_type": "display_data"
    },
    {
     "data": {
      "application/vnd.jupyter.widget-view+json": {
       "model_id": "7b7f455404464dc180e9d2a967626290",
       "version_major": 2,
       "version_minor": 0
      },
      "text/plain": [
       "Retrieving ThermoDoc documents:   0%|          | 0/202 [00:00<?, ?it/s]"
      ]
     },
     "metadata": {},
     "output_type": "display_data"
    },
    {
     "data": {
      "application/vnd.jupyter.widget-view+json": {
       "model_id": "97a1238920b04070a46c06e1e8f2c6b6",
       "version_major": 2,
       "version_minor": 0
      },
      "text/plain": [
       "Retrieving ThermoDoc documents:   0%|          | 0/203 [00:00<?, ?it/s]"
      ]
     },
     "metadata": {},
     "output_type": "display_data"
    },
    {
     "data": {
      "application/vnd.jupyter.widget-view+json": {
       "model_id": "5357fcc11c044e8ba2b3fd118576adaa",
       "version_major": 2,
       "version_minor": 0
      },
      "text/plain": [
       "Retrieving ThermoDoc documents:   0%|          | 0/205 [00:00<?, ?it/s]"
      ]
     },
     "metadata": {},
     "output_type": "display_data"
    },
    {
     "data": {
      "application/vnd.jupyter.widget-view+json": {
       "model_id": "a2b845d941564044896f733156376af5",
       "version_major": 2,
       "version_minor": 0
      },
      "text/plain": [
       "Retrieving ThermoDoc documents:   0%|          | 0/263 [00:00<?, ?it/s]"
      ]
     },
     "metadata": {},
     "output_type": "display_data"
    },
    {
     "data": {
      "application/vnd.jupyter.widget-view+json": {
       "model_id": "60d2d7bd023a4fd396e4142dd66c1f40",
       "version_major": 2,
       "version_minor": 0
      },
      "text/plain": [
       "Retrieving ThermoDoc documents:   0%|          | 0/208 [00:00<?, ?it/s]"
      ]
     },
     "metadata": {},
     "output_type": "display_data"
    },
    {
     "data": {
      "application/vnd.jupyter.widget-view+json": {
       "model_id": "d05f193350cf4a3f97d32f82a98237aa",
       "version_major": 2,
       "version_minor": 0
      },
      "text/plain": [
       "Retrieving ThermoDoc documents:   0%|          | 0/215 [00:00<?, ?it/s]"
      ]
     },
     "metadata": {},
     "output_type": "display_data"
    },
    {
     "data": {
      "application/vnd.jupyter.widget-view+json": {
       "model_id": "0b1d0daa1118474991a5ae9540a4438e",
       "version_major": 2,
       "version_minor": 0
      },
      "text/plain": [
       "Retrieving ThermoDoc documents:   0%|          | 0/239 [00:00<?, ?it/s]"
      ]
     },
     "metadata": {},
     "output_type": "display_data"
    },
    {
     "data": {
      "application/vnd.jupyter.widget-view+json": {
       "model_id": "8601683316884a0282238766a7a8a938",
       "version_major": 2,
       "version_minor": 0
      },
      "text/plain": [
       "Retrieving ThermoDoc documents:   0%|          | 0/211 [00:00<?, ?it/s]"
      ]
     },
     "metadata": {},
     "output_type": "display_data"
    },
    {
     "data": {
      "application/vnd.jupyter.widget-view+json": {
       "model_id": "0540404416f3423eae0920b63664e362",
       "version_major": 2,
       "version_minor": 0
      },
      "text/plain": [
       "Retrieving ThermoDoc documents:   0%|          | 0/229 [00:00<?, ?it/s]"
      ]
     },
     "metadata": {},
     "output_type": "display_data"
    },
    {
     "data": {
      "application/vnd.jupyter.widget-view+json": {
       "model_id": "630e9e88ce8145b1b46e96cf47fcdf5f",
       "version_major": 2,
       "version_minor": 0
      },
      "text/plain": [
       "Retrieving ThermoDoc documents:   0%|          | 0/209 [00:00<?, ?it/s]"
      ]
     },
     "metadata": {},
     "output_type": "display_data"
    },
    {
     "data": {
      "application/vnd.jupyter.widget-view+json": {
       "model_id": "0584e3d95bcf4a2c9ab4f7fc39705a2c",
       "version_major": 2,
       "version_minor": 0
      },
      "text/plain": [
       "Retrieving ThermoDoc documents:   0%|          | 0/202 [00:00<?, ?it/s]"
      ]
     },
     "metadata": {},
     "output_type": "display_data"
    },
    {
     "data": {
      "application/vnd.jupyter.widget-view+json": {
       "model_id": "250509b8b61b48a1893589aac4b71562",
       "version_major": 2,
       "version_minor": 0
      },
      "text/plain": [
       "Retrieving ThermoDoc documents:   0%|          | 0/202 [00:00<?, ?it/s]"
      ]
     },
     "metadata": {},
     "output_type": "display_data"
    },
    {
     "data": {
      "application/vnd.jupyter.widget-view+json": {
       "model_id": "1df56cabbae94776af373e94dfdaa8f5",
       "version_major": 2,
       "version_minor": 0
      },
      "text/plain": [
       "Retrieving ThermoDoc documents:   0%|          | 0/201 [00:00<?, ?it/s]"
      ]
     },
     "metadata": {},
     "output_type": "display_data"
    },
    {
     "data": {
      "application/vnd.jupyter.widget-view+json": {
       "model_id": "b0b13776d3f84302809af18a6a9ef5b9",
       "version_major": 2,
       "version_minor": 0
      },
      "text/plain": [
       "Retrieving ThermoDoc documents:   0%|          | 0/200 [00:00<?, ?it/s]"
      ]
     },
     "metadata": {},
     "output_type": "display_data"
    },
    {
     "data": {
      "application/vnd.jupyter.widget-view+json": {
       "model_id": "3ac065d84b774ee6b4bc0bfc49a16c4c",
       "version_major": 2,
       "version_minor": 0
      },
      "text/plain": [
       "Retrieving ThermoDoc documents:   0%|          | 0/201 [00:00<?, ?it/s]"
      ]
     },
     "metadata": {},
     "output_type": "display_data"
    },
    {
     "data": {
      "application/vnd.jupyter.widget-view+json": {
       "model_id": "f5e8cafc27da46a88d190c04481cd26d",
       "version_major": 2,
       "version_minor": 0
      },
      "text/plain": [
       "Retrieving ThermoDoc documents:   0%|          | 0/201 [00:00<?, ?it/s]"
      ]
     },
     "metadata": {},
     "output_type": "display_data"
    },
    {
     "data": {
      "application/vnd.jupyter.widget-view+json": {
       "model_id": "4885d785fd364cf7abd7e3402d5d3eec",
       "version_major": 2,
       "version_minor": 0
      },
      "text/plain": [
       "Retrieving ThermoDoc documents:   0%|          | 0/200 [00:00<?, ?it/s]"
      ]
     },
     "metadata": {},
     "output_type": "display_data"
    },
    {
     "data": {
      "application/vnd.jupyter.widget-view+json": {
       "model_id": "d91d56caccf84b3ea273891f9ea7d812",
       "version_major": 2,
       "version_minor": 0
      },
      "text/plain": [
       "Retrieving ThermoDoc documents:   0%|          | 0/202 [00:00<?, ?it/s]"
      ]
     },
     "metadata": {},
     "output_type": "display_data"
    },
    {
     "data": {
      "application/vnd.jupyter.widget-view+json": {
       "model_id": "596b3280589d4310a93e8f28a702ef1f",
       "version_major": 2,
       "version_minor": 0
      },
      "text/plain": [
       "Retrieving ThermoDoc documents:   0%|          | 0/202 [00:00<?, ?it/s]"
      ]
     },
     "metadata": {},
     "output_type": "display_data"
    },
    {
     "data": {
      "application/vnd.jupyter.widget-view+json": {
       "model_id": "7e6f0b4455e84af68cf5b42044de6fcb",
       "version_major": 2,
       "version_minor": 0
      },
      "text/plain": [
       "Retrieving ThermoDoc documents:   0%|          | 0/200 [00:00<?, ?it/s]"
      ]
     },
     "metadata": {},
     "output_type": "display_data"
    },
    {
     "data": {
      "application/vnd.jupyter.widget-view+json": {
       "model_id": "5ce266256e8e4d15a2f6505b804d5b6a",
       "version_major": 2,
       "version_minor": 0
      },
      "text/plain": [
       "Retrieving ThermoDoc documents:   0%|          | 0/201 [00:00<?, ?it/s]"
      ]
     },
     "metadata": {},
     "output_type": "display_data"
    },
    {
     "data": {
      "application/vnd.jupyter.widget-view+json": {
       "model_id": "43a4bb98eded4f0c9a9d2c04a0f04b78",
       "version_major": 2,
       "version_minor": 0
      },
      "text/plain": [
       "Retrieving ThermoDoc documents:   0%|          | 0/203 [00:00<?, ?it/s]"
      ]
     },
     "metadata": {},
     "output_type": "display_data"
    },
    {
     "data": {
      "application/vnd.jupyter.widget-view+json": {
       "model_id": "912514efcfbf4636b298b1fb5bbecbd7",
       "version_major": 2,
       "version_minor": 0
      },
      "text/plain": [
       "Retrieving ThermoDoc documents:   0%|          | 0/203 [00:00<?, ?it/s]"
      ]
     },
     "metadata": {},
     "output_type": "display_data"
    },
    {
     "data": {
      "application/vnd.jupyter.widget-view+json": {
       "model_id": "ac183f988cc94390997ce59f219f536b",
       "version_major": 2,
       "version_minor": 0
      },
      "text/plain": [
       "Retrieving ThermoDoc documents:   0%|          | 0/201 [00:00<?, ?it/s]"
      ]
     },
     "metadata": {},
     "output_type": "display_data"
    },
    {
     "data": {
      "application/vnd.jupyter.widget-view+json": {
       "model_id": "2ab724d230714160b27467900a7f9e8a",
       "version_major": 2,
       "version_minor": 0
      },
      "text/plain": [
       "Retrieving ThermoDoc documents:   0%|          | 0/200 [00:00<?, ?it/s]"
      ]
     },
     "metadata": {},
     "output_type": "display_data"
    },
    {
     "data": {
      "application/vnd.jupyter.widget-view+json": {
       "model_id": "8296dc63e86a4f2b9ad12be92f0c04cd",
       "version_major": 2,
       "version_minor": 0
      },
      "text/plain": [
       "Retrieving ThermoDoc documents:   0%|          | 0/200 [00:00<?, ?it/s]"
      ]
     },
     "metadata": {},
     "output_type": "display_data"
    },
    {
     "data": {
      "application/vnd.jupyter.widget-view+json": {
       "model_id": "2ec6040050634844993a69a033243f26",
       "version_major": 2,
       "version_minor": 0
      },
      "text/plain": [
       "Retrieving ThermoDoc documents:   0%|          | 0/201 [00:00<?, ?it/s]"
      ]
     },
     "metadata": {},
     "output_type": "display_data"
    },
    {
     "data": {
      "application/vnd.jupyter.widget-view+json": {
       "model_id": "9ff1d98ea0ef4e99a423e40bfb6c9be0",
       "version_major": 2,
       "version_minor": 0
      },
      "text/plain": [
       "Retrieving ThermoDoc documents:   0%|          | 0/202 [00:00<?, ?it/s]"
      ]
     },
     "metadata": {},
     "output_type": "display_data"
    },
    {
     "data": {
      "application/vnd.jupyter.widget-view+json": {
       "model_id": "c20d1a6d8f234e14808b40fe6a1376d5",
       "version_major": 2,
       "version_minor": 0
      },
      "text/plain": [
       "Retrieving ThermoDoc documents:   0%|          | 0/199 [00:00<?, ?it/s]"
      ]
     },
     "metadata": {},
     "output_type": "display_data"
    },
    {
     "data": {
      "application/vnd.jupyter.widget-view+json": {
       "model_id": "a7192a1e30d14053aa09d4cc30984681",
       "version_major": 2,
       "version_minor": 0
      },
      "text/plain": [
       "Retrieving ThermoDoc documents:   0%|          | 0/200 [00:00<?, ?it/s]"
      ]
     },
     "metadata": {},
     "output_type": "display_data"
    },
    {
     "data": {
      "application/vnd.jupyter.widget-view+json": {
       "model_id": "7ed3a3293be24c29ab24adae85fcb73a",
       "version_major": 2,
       "version_minor": 0
      },
      "text/plain": [
       "Retrieving ThermoDoc documents:   0%|          | 0/219 [00:00<?, ?it/s]"
      ]
     },
     "metadata": {},
     "output_type": "display_data"
    },
    {
     "data": {
      "application/vnd.jupyter.widget-view+json": {
       "model_id": "35102c0b2ead40339e9429db72075eb6",
       "version_major": 2,
       "version_minor": 0
      },
      "text/plain": [
       "Retrieving ThermoDoc documents:   0%|          | 0/233 [00:00<?, ?it/s]"
      ]
     },
     "metadata": {},
     "output_type": "display_data"
    },
    {
     "data": {
      "application/vnd.jupyter.widget-view+json": {
       "model_id": "74a475c4e2864e5b976b11c5f2d430ea",
       "version_major": 2,
       "version_minor": 0
      },
      "text/plain": [
       "Retrieving ThermoDoc documents:   0%|          | 0/200 [00:00<?, ?it/s]"
      ]
     },
     "metadata": {},
     "output_type": "display_data"
    },
    {
     "data": {
      "application/vnd.jupyter.widget-view+json": {
       "model_id": "7fc1f08be74545c98d830770cb27d5c8",
       "version_major": 2,
       "version_minor": 0
      },
      "text/plain": [
       "Retrieving ThermoDoc documents:   0%|          | 0/198 [00:00<?, ?it/s]"
      ]
     },
     "metadata": {},
     "output_type": "display_data"
    },
    {
     "data": {
      "application/vnd.jupyter.widget-view+json": {
       "model_id": "695fb5ecf94042528557c4930d786ed7",
       "version_major": 2,
       "version_minor": 0
      },
      "text/plain": [
       "Retrieving ThermoDoc documents:   0%|          | 0/224 [00:00<?, ?it/s]"
      ]
     },
     "metadata": {},
     "output_type": "display_data"
    },
    {
     "data": {
      "application/vnd.jupyter.widget-view+json": {
       "model_id": "60fb2e8bc9be4f31ad5995a46342f7c1",
       "version_major": 2,
       "version_minor": 0
      },
      "text/plain": [
       "Retrieving ThermoDoc documents:   0%|          | 0/202 [00:00<?, ?it/s]"
      ]
     },
     "metadata": {},
     "output_type": "display_data"
    },
    {
     "data": {
      "application/vnd.jupyter.widget-view+json": {
       "model_id": "99efbe8a0ef34c69a61cfeee89f5b47f",
       "version_major": 2,
       "version_minor": 0
      },
      "text/plain": [
       "Retrieving ThermoDoc documents:   0%|          | 0/211 [00:00<?, ?it/s]"
      ]
     },
     "metadata": {},
     "output_type": "display_data"
    },
    {
     "data": {
      "application/vnd.jupyter.widget-view+json": {
       "model_id": "10b9a967d0294bb7bcf2afa369e508a2",
       "version_major": 2,
       "version_minor": 0
      },
      "text/plain": [
       "Retrieving ThermoDoc documents:   0%|          | 0/216 [00:00<?, ?it/s]"
      ]
     },
     "metadata": {},
     "output_type": "display_data"
    },
    {
     "data": {
      "application/vnd.jupyter.widget-view+json": {
       "model_id": "0b88d230f21e4c24980f483a833d9152",
       "version_major": 2,
       "version_minor": 0
      },
      "text/plain": [
       "Retrieving ThermoDoc documents:   0%|          | 0/211 [00:00<?, ?it/s]"
      ]
     },
     "metadata": {},
     "output_type": "display_data"
    },
    {
     "data": {
      "application/vnd.jupyter.widget-view+json": {
       "model_id": "2507515dc3e94c72b4c9fcb0fdc29f6d",
       "version_major": 2,
       "version_minor": 0
      },
      "text/plain": [
       "Retrieving ThermoDoc documents:   0%|          | 0/198 [00:00<?, ?it/s]"
      ]
     },
     "metadata": {},
     "output_type": "display_data"
    },
    {
     "data": {
      "application/vnd.jupyter.widget-view+json": {
       "model_id": "510020c863fe477a87666014b0ed8a3e",
       "version_major": 2,
       "version_minor": 0
      },
      "text/plain": [
       "Retrieving ThermoDoc documents:   0%|          | 0/202 [00:00<?, ?it/s]"
      ]
     },
     "metadata": {},
     "output_type": "display_data"
    },
    {
     "data": {
      "application/vnd.jupyter.widget-view+json": {
       "model_id": "1dab265cfba04f548703966faca8f1f1",
       "version_major": 2,
       "version_minor": 0
      },
      "text/plain": [
       "Retrieving ThermoDoc documents:   0%|          | 0/199 [00:00<?, ?it/s]"
      ]
     },
     "metadata": {},
     "output_type": "display_data"
    },
    {
     "data": {
      "application/vnd.jupyter.widget-view+json": {
       "model_id": "65fd19d16cdb42ba93997c44675d0eed",
       "version_major": 2,
       "version_minor": 0
      },
      "text/plain": [
       "Retrieving ThermoDoc documents:   0%|          | 0/203 [00:00<?, ?it/s]"
      ]
     },
     "metadata": {},
     "output_type": "display_data"
    },
    {
     "data": {
      "application/vnd.jupyter.widget-view+json": {
       "model_id": "7e1d728e420643b99a899e4520caf765",
       "version_major": 2,
       "version_minor": 0
      },
      "text/plain": [
       "Retrieving ThermoDoc documents:   0%|          | 0/197 [00:00<?, ?it/s]"
      ]
     },
     "metadata": {},
     "output_type": "display_data"
    },
    {
     "data": {
      "application/vnd.jupyter.widget-view+json": {
       "model_id": "b9977b1c69564e7fb68b02c885cde768",
       "version_major": 2,
       "version_minor": 0
      },
      "text/plain": [
       "Retrieving ThermoDoc documents:   0%|          | 0/198 [00:00<?, ?it/s]"
      ]
     },
     "metadata": {},
     "output_type": "display_data"
    },
    {
     "data": {
      "application/vnd.jupyter.widget-view+json": {
       "model_id": "5af1564c6663416aa1dd8a59be78621a",
       "version_major": 2,
       "version_minor": 0
      },
      "text/plain": [
       "Retrieving ThermoDoc documents:   0%|          | 0/200 [00:00<?, ?it/s]"
      ]
     },
     "metadata": {},
     "output_type": "display_data"
    },
    {
     "data": {
      "application/vnd.jupyter.widget-view+json": {
       "model_id": "e884cf24a91d48cebc3e4d076e13e910",
       "version_major": 2,
       "version_minor": 0
      },
      "text/plain": [
       "Retrieving ThermoDoc documents:   0%|          | 0/200 [00:00<?, ?it/s]"
      ]
     },
     "metadata": {},
     "output_type": "display_data"
    },
    {
     "data": {
      "application/vnd.jupyter.widget-view+json": {
       "model_id": "982f36fd2841403292863fe7450bbd73",
       "version_major": 2,
       "version_minor": 0
      },
      "text/plain": [
       "Retrieving ThermoDoc documents:   0%|          | 0/200 [00:00<?, ?it/s]"
      ]
     },
     "metadata": {},
     "output_type": "display_data"
    },
    {
     "data": {
      "application/vnd.jupyter.widget-view+json": {
       "model_id": "a72cf0deb1a546deb6713213ec7d8698",
       "version_major": 2,
       "version_minor": 0
      },
      "text/plain": [
       "Retrieving ThermoDoc documents:   0%|          | 0/199 [00:00<?, ?it/s]"
      ]
     },
     "metadata": {},
     "output_type": "display_data"
    },
    {
     "data": {
      "application/vnd.jupyter.widget-view+json": {
       "model_id": "4c9a9e3512f04c7bbcf068ad6ac09741",
       "version_major": 2,
       "version_minor": 0
      },
      "text/plain": [
       "Retrieving ThermoDoc documents:   0%|          | 0/199 [00:00<?, ?it/s]"
      ]
     },
     "metadata": {},
     "output_type": "display_data"
    },
    {
     "data": {
      "application/vnd.jupyter.widget-view+json": {
       "model_id": "59ce05c07c7142bba10b3bc348c950da",
       "version_major": 2,
       "version_minor": 0
      },
      "text/plain": [
       "Retrieving ThermoDoc documents:   0%|          | 0/209 [00:00<?, ?it/s]"
      ]
     },
     "metadata": {},
     "output_type": "display_data"
    },
    {
     "data": {
      "application/vnd.jupyter.widget-view+json": {
       "model_id": "635496318b2046dda1fb0e1cea666e10",
       "version_major": 2,
       "version_minor": 0
      },
      "text/plain": [
       "Retrieving ThermoDoc documents:   0%|          | 0/205 [00:00<?, ?it/s]"
      ]
     },
     "metadata": {},
     "output_type": "display_data"
    },
    {
     "data": {
      "application/vnd.jupyter.widget-view+json": {
       "model_id": "5cf9e6221fb244218d654323ab72f081",
       "version_major": 2,
       "version_minor": 0
      },
      "text/plain": [
       "Retrieving ThermoDoc documents:   0%|          | 0/203 [00:00<?, ?it/s]"
      ]
     },
     "metadata": {},
     "output_type": "display_data"
    },
    {
     "data": {
      "application/vnd.jupyter.widget-view+json": {
       "model_id": "43d79da2638840ca9c0e20f5d9f01313",
       "version_major": 2,
       "version_minor": 0
      },
      "text/plain": [
       "Retrieving ThermoDoc documents:   0%|          | 0/198 [00:00<?, ?it/s]"
      ]
     },
     "metadata": {},
     "output_type": "display_data"
    },
    {
     "data": {
      "application/vnd.jupyter.widget-view+json": {
       "model_id": "ed8504543bd14c3680fb11b23ed076d4",
       "version_major": 2,
       "version_minor": 0
      },
      "text/plain": [
       "Retrieving ThermoDoc documents:   0%|          | 0/199 [00:00<?, ?it/s]"
      ]
     },
     "metadata": {},
     "output_type": "display_data"
    },
    {
     "data": {
      "application/vnd.jupyter.widget-view+json": {
       "model_id": "013ab551aa794d00b359bfa8e9c16f50",
       "version_major": 2,
       "version_minor": 0
      },
      "text/plain": [
       "Retrieving ThermoDoc documents:   0%|          | 0/210 [00:00<?, ?it/s]"
      ]
     },
     "metadata": {},
     "output_type": "display_data"
    },
    {
     "data": {
      "application/vnd.jupyter.widget-view+json": {
       "model_id": "c73ef33d29394728a62c3ee96f44a794",
       "version_major": 2,
       "version_minor": 0
      },
      "text/plain": [
       "Retrieving ThermoDoc documents:   0%|          | 0/215 [00:00<?, ?it/s]"
      ]
     },
     "metadata": {},
     "output_type": "display_data"
    },
    {
     "data": {
      "application/vnd.jupyter.widget-view+json": {
       "model_id": "a008563e218a4314bc01ed034e4c8fc6",
       "version_major": 2,
       "version_minor": 0
      },
      "text/plain": [
       "Retrieving ThermoDoc documents:   0%|          | 0/198 [00:00<?, ?it/s]"
      ]
     },
     "metadata": {},
     "output_type": "display_data"
    },
    {
     "data": {
      "application/vnd.jupyter.widget-view+json": {
       "model_id": "5ad684d0ea3244bdba26028ba9090094",
       "version_major": 2,
       "version_minor": 0
      },
      "text/plain": [
       "Retrieving ThermoDoc documents:   0%|          | 0/203 [00:00<?, ?it/s]"
      ]
     },
     "metadata": {},
     "output_type": "display_data"
    },
    {
     "data": {
      "application/vnd.jupyter.widget-view+json": {
       "model_id": "69901b87197e49a1963a579deae3456a",
       "version_major": 2,
       "version_minor": 0
      },
      "text/plain": [
       "Retrieving ThermoDoc documents:   0%|          | 0/201 [00:00<?, ?it/s]"
      ]
     },
     "metadata": {},
     "output_type": "display_data"
    },
    {
     "data": {
      "application/vnd.jupyter.widget-view+json": {
       "model_id": "1af0fe8760ac490c97826fd6ac0a5269",
       "version_major": 2,
       "version_minor": 0
      },
      "text/plain": [
       "Retrieving ThermoDoc documents:   0%|          | 0/201 [00:00<?, ?it/s]"
      ]
     },
     "metadata": {},
     "output_type": "display_data"
    },
    {
     "data": {
      "application/vnd.jupyter.widget-view+json": {
       "model_id": "f15cc734c7da457b8a1843ed3285cce6",
       "version_major": 2,
       "version_minor": 0
      },
      "text/plain": [
       "Retrieving ThermoDoc documents:   0%|          | 0/202 [00:00<?, ?it/s]"
      ]
     },
     "metadata": {},
     "output_type": "display_data"
    },
    {
     "data": {
      "application/vnd.jupyter.widget-view+json": {
       "model_id": "38d35b935bee42c08c11e5668dacc580",
       "version_major": 2,
       "version_minor": 0
      },
      "text/plain": [
       "Retrieving ThermoDoc documents:   0%|          | 0/198 [00:00<?, ?it/s]"
      ]
     },
     "metadata": {},
     "output_type": "display_data"
    },
    {
     "data": {
      "application/vnd.jupyter.widget-view+json": {
       "model_id": "e6801975e3e14277a157fb2519bd47c3",
       "version_major": 2,
       "version_minor": 0
      },
      "text/plain": [
       "Retrieving ThermoDoc documents:   0%|          | 0/200 [00:00<?, ?it/s]"
      ]
     },
     "metadata": {},
     "output_type": "display_data"
    },
    {
     "data": {
      "application/vnd.jupyter.widget-view+json": {
       "model_id": "7375ec09cce441a68cb648a41a2b4b70",
       "version_major": 2,
       "version_minor": 0
      },
      "text/plain": [
       "Retrieving ThermoDoc documents:   0%|          | 0/199 [00:00<?, ?it/s]"
      ]
     },
     "metadata": {},
     "output_type": "display_data"
    },
    {
     "data": {
      "application/vnd.jupyter.widget-view+json": {
       "model_id": "aea6c7f348b347f88dd412e5aaf30c6b",
       "version_major": 2,
       "version_minor": 0
      },
      "text/plain": [
       "Retrieving ThermoDoc documents:   0%|          | 0/202 [00:00<?, ?it/s]"
      ]
     },
     "metadata": {},
     "output_type": "display_data"
    },
    {
     "data": {
      "application/vnd.jupyter.widget-view+json": {
       "model_id": "9f64ac6001ed414fb44f445c04e5b7aa",
       "version_major": 2,
       "version_minor": 0
      },
      "text/plain": [
       "Retrieving ThermoDoc documents:   0%|          | 0/206 [00:00<?, ?it/s]"
      ]
     },
     "metadata": {},
     "output_type": "display_data"
    },
    {
     "data": {
      "application/vnd.jupyter.widget-view+json": {
       "model_id": "af11aec586f9431bb5556e7f385ae4e0",
       "version_major": 2,
       "version_minor": 0
      },
      "text/plain": [
       "Retrieving ThermoDoc documents:   0%|          | 0/200 [00:00<?, ?it/s]"
      ]
     },
     "metadata": {},
     "output_type": "display_data"
    },
    {
     "data": {
      "application/vnd.jupyter.widget-view+json": {
       "model_id": "a02c6cb54e954013b795c577f082ea0e",
       "version_major": 2,
       "version_minor": 0
      },
      "text/plain": [
       "Retrieving ThermoDoc documents:   0%|          | 0/202 [00:00<?, ?it/s]"
      ]
     },
     "metadata": {},
     "output_type": "display_data"
    },
    {
     "data": {
      "application/vnd.jupyter.widget-view+json": {
       "model_id": "a84202fc56184f89a5eea0e0051bc411",
       "version_major": 2,
       "version_minor": 0
      },
      "text/plain": [
       "Retrieving ThermoDoc documents:   0%|          | 0/206 [00:00<?, ?it/s]"
      ]
     },
     "metadata": {},
     "output_type": "display_data"
    },
    {
     "data": {
      "application/vnd.jupyter.widget-view+json": {
       "model_id": "786c66d1e447496d9ffcc9633db294a9",
       "version_major": 2,
       "version_minor": 0
      },
      "text/plain": [
       "Retrieving ThermoDoc documents:   0%|          | 0/199 [00:00<?, ?it/s]"
      ]
     },
     "metadata": {},
     "output_type": "display_data"
    },
    {
     "data": {
      "application/vnd.jupyter.widget-view+json": {
       "model_id": "0563619390174cb295ead21bca6c8da5",
       "version_major": 2,
       "version_minor": 0
      },
      "text/plain": [
       "Retrieving ThermoDoc documents:   0%|          | 0/201 [00:00<?, ?it/s]"
      ]
     },
     "metadata": {},
     "output_type": "display_data"
    },
    {
     "name": "stdout",
     "output_type": "stream",
     "text": [
      "\n",
      "Dados termoquímicos:\n",
      "  material_id  formation_energy_per_atom  energy_above_hull\n",
      "0  mp-1072880                   0.357709           0.357709\n",
      "1  mp-1072880                   0.357709           0.357709\n",
      "2  mp-1178247                  -1.370252           0.111268\n",
      "3  mp-1178247                  -1.370252           0.111268\n",
      "4  mp-1181398                  -2.600620           0.038028\n",
      "\n",
      "Dados combinados:\n",
      "  material_id formula_pretty   density       volume  nsites  formation_energy_per_atom  energy_above_hull\n",
      "0  mp-1245108             Fe  7.965581  1164.168707     100                   0.279455           0.279455\n",
      "1  mp-1245108             Fe  7.965581  1164.168707     100                   0.279455           0.279455\n",
      "2  mp-1194030             Fe  7.642711   339.737882      28                   0.175289           0.175289\n",
      "3  mp-1194030             Fe  7.642711   339.737882      28                   0.175289           0.175289\n",
      "4  mp-1271068             Fe  8.109374    45.741043       4                   0.017070           0.017070\n",
      "\n",
      "✅ Arquivo CSV exportado com sucesso: 'materiais_fe_completos.csv'\n"
     ]
    }
   ],
   "source": [
    "# 1. Importar bibliotecas\n",
    "from mp_api.client import MPRester\n",
    "import pandas as pd\n",
    "import numpy as np\n",
    "\n",
    "# 2. Conectar ao Materials Project\n",
    "mpr = MPRester(\"sv9BBcTrwKd0WSFnRqhFURQ8pbhNHBkK\")\n",
    "\n",
    "# 3. Definir campos desejados\n",
    "campos_basicos = [\"material_id\", \"formula_pretty\", \"density\", \"volume\", \"nsites\"]\n",
    "\n",
    "# 4. Fazer a consulta por materiais com ferro\n",
    "results = mpr.materials.search(elements=[\"Fe\"], fields=campos_basicos)\n",
    "\n",
    "# 5. Extrair apenas os campos úteis manualmente\n",
    "dados = []\n",
    "for r in results:\n",
    "    dados.append({\n",
    "        \"material_id\": r.material_id,\n",
    "        \"formula_pretty\": r.formula_pretty,\n",
    "        \"density\": r.density,\n",
    "        \"volume\": r.volume,\n",
    "        \"nsites\": r.nsites\n",
    "    })\n",
    "\n",
    "df = pd.DataFrame(dados)\n",
    "\n",
    "# 6. Exibir os dados estruturais (texto puro)\n",
    "print(\"Dados estruturais limpos:\")\n",
    "print(df.head().to_string())\n",
    "\n",
    "# 7. Dividir lista de IDs em blocos\n",
    "material_ids = df[\"material_id\"].tolist()\n",
    "chunks = np.array_split(material_ids, int(len(material_ids) / 100) + 1)\n",
    "\n",
    "# 8. Buscar dados termoquímicos em blocos\n",
    "thermo_data = []\n",
    "for chunk in chunks:\n",
    "    termo = mpr.materials.thermo.search(\n",
    "        material_ids=list(chunk),\n",
    "        fields=[\"material_id\", \"formation_energy_per_atom\", \"energy_above_hull\"]\n",
    "    )\n",
    "    for r in termo:\n",
    "        thermo_data.append({\n",
    "            \"material_id\": r.material_id,\n",
    "            \"formation_energy_per_atom\": r.formation_energy_per_atom,\n",
    "            \"energy_above_hull\": r.energy_above_hull\n",
    "        })\n",
    "\n",
    "# 9. Criar DataFrame termoquímico\n",
    "df_thermo = pd.DataFrame(thermo_data)\n",
    "print(\"\\nDados termoquímicos:\")\n",
    "print(df_thermo.head().to_string())\n",
    "\n",
    "# 10. Juntar os dados\n",
    "df_final = pd.merge(df, df_thermo, on=\"material_id\")\n",
    "print(\"\\nDados combinados:\")\n",
    "print(df_final.head().to_string())\n",
    "\n",
    "# 11. Exportar para CSV\n",
    "df_final.to_csv(\"materiais_fe_completos.csv\", index=False)\n",
    "print(\"\\n✅ Arquivo CSV exportado com sucesso: 'materiais_fe_completos.csv'\")"
   ]
  },
  {
   "cell_type": "code",
   "execution_count": 4,
   "id": "8a1d7920-3f69-41e6-95fc-9e83289c4130",
   "metadata": {},
   "outputs": [
    {
     "data": {
      "image/png": "[encoded data removed]",
      "text/plain": [
       "<Figure size 640x480 with 1 Axes>"
      ]
     },
     "metadata": {},
     "output_type": "display_data"
    },
    {
     "data": {
      "image/png": "[encoded data removed]",
      "text/plain": [
       "<Figure size 640x480 with 1 Axes>"
      ]
     },
     "metadata": {},
     "output_type": "display_data"
    }
   ],
   "source": [
    "import matplotlib.pyplot as plt\n",
    "import seaborn as sns\n",
    "\n",
    "# Histograma da densidade\n",
    "sns.histplot(df_final[\"density\"], bins=30, kde=True)\n",
    "plt.title(\"Distribuição da densidade dos materiais com ferro\")\n",
    "plt.xlabel(\"Densidade (g/cm³)\")\n",
    "plt.ylabel(\"Frequência\")\n",
    "plt.show()\n",
    "\n",
    "# Relação entre energia de formação e densidade\n",
    "sns.scatterplot(data=df_final, x=\"density\", y=\"formation_energy_per_atom\")\n",
    "plt.title(\"Energia de formação vs. densidade\")\n",
    "plt.xlabel(\"Densidade (g/cm³)\")\n",
    "plt.ylabel(\"Energia de formação (eV/átomo)\")\n",
    "plt.show()"
   ]
  },
  {
   "cell_type": "code",
   "execution_count": 5,
   "id": "4b1bb4b6-63b5-4d54-a1b7-2d76031e5dbf",
   "metadata": {},
   "outputs": [
    {
     "name": "stdout",
     "output_type": "stream",
     "text": [
      "\n",
      "Materiais estáveis encontrados: 11490\n",
      "   material_id formula_pretty   density     volume  nsites  formation_energy_per_atom  energy_above_hull\n",
      "4   mp-1271068             Fe  8.109374  45.741043       4                    0.01707            0.01707\n",
      "5   mp-1271068             Fe  8.109374  45.741043       4                    0.01707            0.01707\n",
      "18       mp-13             Fe  7.902858  23.468168       2                    0.00000            0.00000\n",
      "19       mp-13             Fe  7.902858  23.468168       2                    0.00000            0.00000\n",
      "20       mp-13             Fe  7.902858  23.468168       2                    0.00000            0.00000\n"
     ]
    }
   ],
   "source": [
    "# Filtrar materiais com energia acima da linha de estabilidade < 0.05 eV\n",
    "materiais_estaveis = df_final[df_final[\"energy_above_hull\"] < 0.05]\n",
    "print(f\"\\nMateriais estáveis encontrados: {len(materiais_estaveis)}\")\n",
    "print(materiais_estaveis.head().to_string())"
   ]
  },
  {
   "cell_type": "code",
   "execution_count": 19,
   "id": "44278b45-8fa7-4a04-a469-86982ab5d0af",
   "metadata": {},
   "outputs": [],
   "source": [
    "from sklearn.model_selection import train_test_split\n",
    "from sklearn.metrics import mean_absolute_error\n",
    "from sklearn.ensemble import RandomForestRegressor\n",
    "\n",
    "# Selecionar features e alvo\n",
    "features = df_completo[[\"density\", \"volume\", \"nsites\", \"band_gap\"]].fillna(0)\n",
    "target = df_completo[\"energy_above_hull\"].fillna(0)"
   ]
  },
  {
   "cell_type": "code",
   "execution_count": 20,
   "id": "844ad4a4-b4bc-4703-8e98-b9b6740c0419",
   "metadata": {},
   "outputs": [
    {
     "name": "stdout",
     "output_type": "stream",
     "text": [
      "✅ Treinamento com 10% dos dados → MAE: 0.0110 eV/atom\n",
      "✅ Treinamento com 20% dos dados → MAE: 0.0095 eV/atom\n",
      "✅ Treinamento com 30% dos dados → MAE: 0.0086 eV/atom\n",
      "✅ Treinamento com 40% dos dados → MAE: 0.0078 eV/atom\n",
      "✅ Treinamento com 50% dos dados → MAE: 0.0071 eV/atom\n",
      "✅ Treinamento com 60% dos dados → MAE: 0.0065 eV/atom\n",
      "✅ Treinamento com 70% dos dados → MAE: 0.0058 eV/atom\n",
      "✅ Treinamento com 90% dos dados → MAE: 0.0050 eV/atom\n"
     ]
    }
   ],
   "source": [
    "mae_por_tamanho = []\n",
    "tamanhos = [10, 20, 30, 40, 50, 60, 70, 90]\n",
    "\n",
    "for pct in tamanhos:\n",
    "    X_train, X_val, y_train, y_val = train_test_split(\n",
    "        features, target, train_size=pct/100, random_state=42\n",
    "    )\n",
    "    \n",
    "    modelo = RandomForestRegressor(n_estimators=100, random_state=42)\n",
    "    modelo.fit(X_train, y_train)\n",
    "    y_pred = modelo.predict(X_val)\n",
    "    \n",
    "    mae = mean_absolute_error(y_val, y_pred)\n",
    "    mae_por_tamanho.append(mae)\n",
    "    print(f\"✅ Treinamento com {pct}% dos dados → MAE: {mae:.4f} eV/atom\")"
   ]
  },
  {
   "cell_type": "code",
   "execution_count": 21,
   "id": "ffd46f5a-3ace-4d25-acb6-e88b0b0e1459",
   "metadata": {},
   "outputs": [
    {
     "data": {
      "image/png": "[encoded data removed]",
      "text/plain": [
       "<Figure size 640x480 with 1 Axes>"
      ]
     },
     "metadata": {},
     "output_type": "display_data"
    }
   ],
   "source": [
    "import matplotlib.pyplot as plt\n",
    "\n",
    "plt.plot(tamanhos, mae_por_tamanho, marker='o', color='purple')\n",
    "plt.xlabel(\"Tamanho do conjunto de treinamento (%)\")\n",
    "plt.ylabel(\"Erro médio absoluto (eV/átomo)\")\n",
    "plt.title(\"MAE vs Tamanho do Treinamento\")\n",
    "plt.grid(True)\n",
    "plt.savefig(\"mae_vs_treinamento.png\")\n",
    "plt.show()"
   ]
  },
  {
   "cell_type": "code",
   "execution_count": 22,
   "id": "c9891f6a-7742-4498-a602-0ecc23886a12",
   "metadata": {},
   "outputs": [
    {
     "data": {
      "text/plain": [
       "'C:\\\\Users\\\\Cassio Souza\\\\anaconda_projects\\\\72978dcf-0512-4e4d-853a-1a60034af278'"
      ]
     },
     "execution_count": 22,
     "metadata": {},
     "output_type": "execute_result"
    }
   ],
   "source": [
    "import os\n",
    "os.getcwd()"
   ]
  },
  {
   "cell_type": "code",
   "execution_count": null,
   "id": "2aa3313e-ea47-4812-b51f-a7e54b473397",
   "metadata": {},
   "outputs": [],
   "source": []
  }
 ],
 "metadata": {
  "kernelspec": {
   "display_name": "Python [conda env:base] *",
   "language": "python",
   "name": "conda-base-py"
  },
  "language_info": {
   "codemirror_mode": {
    "name": "ipython",
    "version": 3
   },
   "file_extension": ".py",
   "mimetype": "text/x-python",
   "name": "python",
   "nbconvert_exporter": "python",
   "pygments_lexer": "ipython3",
   "version": "3.12.7"
  }
 },
 "nbformat": 4,
 "nbformat_minor": 5
}
